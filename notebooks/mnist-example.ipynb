{
 "cells": [
  {
   "cell_type": "code",
   "execution_count": 1,
   "metadata": {
    "collapsed": true
   },
   "outputs": [],
   "source": [
    "from __future__ import absolute_import\n",
    "from __future__ import print_function\n",
    "from __future__ import division\n",
    "\n",
    "#import edward as ed\n",
    "import matplotlib.pyplot as plt\n",
    "import numpy as np\n",
    "import os\n",
    "import tensorflow as tf\n",
    "import numpy.random as npr\n",
    "import scipy as sc\n",
    "import _settings\n",
    "\n",
    "from tensorflow.examples.tutorials.mnist import input_data\n",
    "\n",
    "from tensorflow.contrib import slim\n"
   ]
  },
  {
   "cell_type": "code",
   "execution_count": 2,
   "metadata": {
    "collapsed": true
   },
   "outputs": [],
   "source": [
    "tf.set_random_seed = 117"
   ]
  },
  {
   "cell_type": "code",
   "execution_count": 3,
   "metadata": {},
   "outputs": [
    {
     "name": "stdout",
     "output_type": "stream",
     "text": [
      "Extracting C:\\Users\\Lewan\\data\\mnist\\train-images-idx3-ubyte.gz\n",
      "Extracting C:\\Users\\Lewan\\data\\mnist\\train-labels-idx1-ubyte.gz\n",
      "Extracting C:\\Users\\Lewan\\data\\mnist\\t10k-images-idx3-ubyte.gz\n",
      "Extracting C:\\Users\\Lewan\\data\\mnist\\t10k-labels-idx1-ubyte.gz\n"
     ]
    }
   ],
   "source": [
    "_settings.tf_float = tf.float64\n",
    "_settings.np_float = np.float64\n",
    "mnist = input_data.read_data_sets(\"C:\\\\Users\\\\Lewan\\\\data\\\\mnist\", one_hot=False)\n"
   ]
  },
  {
   "cell_type": "code",
   "execution_count": 280,
   "metadata": {
    "collapsed": true
   },
   "outputs": [],
   "source": [
    "tf.reset_default_graph()\n",
    "import svgp\n",
    "import likelihoods\n",
    "import transforms\n",
    "import kernels\n",
    "from gpflow import settings\n",
    "\n",
    "class Deep(kernels.Stationary):\n",
    "    def __init__(self, scope = \"kern\", input_dim=50, nn = None,  dropout=1.0, ARD=False, lengthscales=None, active_dims=None, name=None):\n",
    "        super(kernels.Stationary, self).__init__(input_dim, active_dims, name=name)\n",
    "        self.dropout = dropout\n",
    "        self.variance_temp = tf.Variable(np.ones(1, _settings.np_float))\n",
    "#        self.variance = tf.nn.softplus(self.variance_temp)\n",
    "        self.variance = tf.square(self.variance_temp)\n",
    "        self.nn = nn\n",
    "        self.scope = scope\n",
    "#         if ARD:\n",
    "#             if lengthscales is None:\n",
    "#                 lengthscales = np.ones(input_dim, settings.np_float)\n",
    "#             else:\n",
    "#                 # accepts float or array:\n",
    "#                 lengthscales = lengthscales * np.ones(input_dim, settings.np_float)\n",
    "#             self.lengthscales = tf.Variable(np.square(lengthscales))\n",
    "#             self.ARD = True\n",
    "#         else:\n",
    "#             if lengthscales is None:\n",
    "#                 lengthscales = 1.0\n",
    "#             self.lengthscales = tf.Variable(np.square(lengthscales))\n",
    "#             self.ARD = False\n",
    "    def square_dist(self, X, X2):\n",
    "        X = X \n",
    "        Xs = tf.reduce_sum(tf.square(X), axis=1)\n",
    "\n",
    "        if X2 is None:\n",
    "            dist = -2 * tf.matmul(X, X, transpose_b=True)\n",
    "            dist += tf.reshape(Xs, (-1, 1))  + tf.reshape(Xs, (1, -1))\n",
    "            return dist\n",
    "\n",
    "        X2 = X2 \n",
    "        X2s = tf.reduce_sum(tf.square(X2), axis=1)\n",
    "        dist = -2 * tf.matmul(X, X2, transpose_b=True)\n",
    "        dist += tf.reshape(Xs, (-1, 1)) + tf.reshape(X2s, (1, -1))\n",
    "        return dist \n",
    "    \n",
    "    def Kdiag(self, X, presliced=False):\n",
    "        return tf.fill(tf.stack([tf.shape(X)[0]]), tf.squeeze(self.variance))\n",
    "    \n",
    "    def deep_kernel(self, x):\n",
    "        with tf.variable_scope(self.scope, reuse = True):\n",
    "            return self.nn(x)\n",
    "    \n",
    "    def K(self, X, X2=None):\n",
    "        fX1 = self.deep_kernel(X)\n",
    "#        fX1 = fX1.astype(tf.float64)\n",
    "        if X2 is None:\n",
    "            fX2 = fX1\n",
    "        else:\n",
    "            fX2 = self.deep_kernel(X2)\n",
    "#            fX2.astype(tf.float64)\n",
    "#        return tf.matmul(self.base_kernel(X), self.base_kernel(X2), transpose_b = True)\n",
    "        K = self.variance * tf.exp(-self.square_dist(fX1, fX2) / 2)\n",
    "#        r2 = self.variance * self.square_dist(fX1, fX2)\n",
    "#        K = tf.sqrt(tf.abs(r2))\n",
    "    \n",
    "#          if npr.uniform() < 0.5:\n",
    "#              D = tf.matrix_band_part(K, 0, 0)\n",
    "#              U = tf.matrix_band_part(K, 0, -1) - D\n",
    "#              K = U + D + tf.transpose(U)\n",
    "#          else:\n",
    "#              D = tf.matrix_band_part(K, 0, 0)\n",
    "#              U = tf.matrix_band_part(K, -1, 0) - D\n",
    "#              K = U + D + tf.transpose(U)\n",
    "#         K = U + D + tf.transpose(U)\n",
    "        return K\n"
   ]
  },
  {
   "cell_type": "code",
   "execution_count": 281,
   "metadata": {
    "collapsed": true
   },
   "outputs": [],
   "source": [
    "tf.reset_default_graph()\n",
    "drop = tf.placeholder(tf.float64)\n",
    "phase = tf.placeholder(tf.bool)\n",
    "\n",
    "def NN_BN(x_ph):\n",
    "    x_ph = tf.cast(x_ph, tf.float32)\n",
    "    x_ph = tf.reshape(x_ph, [-1,28, 28, 1])\n",
    "    h = tf.layers.conv2d(x_ph, 32, 3, padding='same', activation=None, trainable=True)\n",
    "    h = slim.batch_norm(h, center=True, scale=True, is_training=phase)\n",
    "    h = tf.nn.relu(h)\n",
    "#    h = tf.layers.dropout(h, drop, training=True)\n",
    "    h = tf.layers.conv2d(h, 64, 3, padding='same', activation=None, trainable=True)\n",
    "    h = slim.batch_norm(h, center=True, scale=True, is_training=phase)\n",
    "    h = tf.nn.relu(h)\n",
    "    h = tf.reshape(h, [M,-1])\n",
    "    h = tf.layers.dense(h, 100, activation=None, trainable=True)\n",
    "    h = slim.batch_norm(h, center=True, scale=True, is_training=phase)\n",
    "    h = tf.nn.relu(h)\n",
    "    h = tf.layers.dense(h, 2, activation=None, trainable=True)\n",
    "    return tf.cast(h, tf.float64)\n",
    "#    return h\n",
    "\n",
    "def NN(x_ph):\n",
    "    x_ph = tf.cast(x_ph, tf.float32)\n",
    "    x_ph = tf.reshape(x_ph, [-1,28, 28, 1])\n",
    "    h = tf.layers.conv2d(x_ph, 32, 3, padding='same', activation=None, trainable=True)\n",
    "    h = tf.nn.relu(h)\n",
    "    h = tf.layers.conv2d(h, 64, 3, padding='same', activation=None, trainable=True)\n",
    "    h = tf.nn.relu(h)\n",
    "    h = tf.reshape(h, [M,-1])\n",
    "    h = tf.layers.dense(h, 100, activation=None, trainable=True)\n",
    "    h = tf.nn.relu(h)\n",
    "    h = tf.layers.dense(h, 2, activation=None, trainable=True)\n",
    "    return tf.cast(h, tf.float64)\n",
    "\n",
    "def CNN_BN(x_ph):\n",
    "    x_ph = tf.cast(x_ph, tf.float32)\n",
    "    x_ph = tf.reshape(x_ph, [-1,28, 28, 1])\n",
    "    h = tf.layers.conv2d(x_ph, 32, 3, padding='same', activation=None, trainable=True)\n",
    "    h = slim.batch_norm(h, center=True, scale=True, is_training=phase)\n",
    "    h = tf.nn.relu(h)\n",
    "#    h = tf.layers.dropout(h, drop, training=True)\n",
    "    h = tf.layers.conv2d(h, 64, 3, padding='same', activation=None, trainable=True)\n",
    "    h = slim.batch_norm(h, center=True, scale=True, is_training=phase)\n",
    "    h = tf.nn.relu(h)\n",
    "    h = tf.reshape(h, [M,-1])\n",
    "    h = tf.layers.dense(h, 100, activation=None, trainable=True)\n",
    "    h = slim.batch_norm(h, center=True, scale=True, is_training=phase)\n",
    "    h = tf.nn.relu(h)\n",
    "    h = tf.layers.dense(h, 100, activation=None, trainable=True)\n",
    "    h = slim.batch_norm(h, center=True, scale=True, is_training=phase)\n",
    "    h = tf.nn.relu(h)\n",
    "    h = tf.layers.dense(h, 2, activation=None, trainable=True)\n",
    "    return tf.cast(h, tf.float64)\n",
    "#    return h\n",
    "\n",
    "def CNN(x_ph):\n",
    "    x_ph = tf.cast(x_ph, tf.float32)\n",
    "    x_ph = tf.reshape(x_ph, [-1,28, 28, 1])\n",
    "    h = tf.layers.conv2d(x_ph, 32, 3, padding='same', activation=None, trainable=True)\n",
    "    h = tf.nn.relu(h)\n",
    "    h = tf.layers.conv2d(h, 64, 3, padding='same', activation=None, trainable=True)\n",
    "    h = tf.nn.relu(h)\n",
    "    h = tf.reshape(h, [M,-1])\n",
    "    h = tf.layers.dense(h, 100, activation=None, trainable=True)\n",
    "    h = tf.nn.relu(h)\n",
    "    h = tf.layers.dense(h, 100, activation=None, trainable=True)\n",
    "    h = tf.nn.relu(h)\n",
    "    h = tf.layers.dense(h, 2, activation=None, trainable=True)\n",
    "    return tf.cast(h, tf.float64)\n",
    "\n",
    "ntest = 500\n",
    "ntrain = 100000\n",
    "sess = tf.InteractiveSession()\n",
    "k = Deep(input_dim=784,nn=NN)\n",
    "M = batch_size = 32\n",
    "X_dat, Y_dat = mnist.train.next_batch(ntrain)\n",
    "X_test, Y_test = mnist.train.next_batch(ntest)\n",
    "Z = X_dat[0:M,]\n",
    "X = tf.placeholder(_settings.tf_float, [M,784])\n",
    "Y = tf.placeholder(_settings.tf_float, [M,1])\n",
    "with tf.variable_scope(\"kern\"):\n",
    "    xm = NN(X)"
   ]
  },
  {
   "cell_type": "code",
   "execution_count": 6,
   "metadata": {
    "collapsed": true,
    "scrolled": true
   },
   "outputs": [],
   "source": [
    "num_iter = 1000\n",
    "\n",
    "m = svgp.SVGP(X, Y,kern=k,\n",
    "                   likelihood=likelihoods.Bernoulli(),Z=Z,minibatch_size=M)\n",
    "\n",
    "_iter = tf.placeholder(tf.int32, shape=None)\n",
    "\n",
    "decay = tf.maximum(0., 1.-(tf.cast(_iter, tf.float32)/(num_iter)))\n",
    "\n",
    "opt = tf.train.AdamOptimizer(0.001)\n",
    "lik = m._build_likelihood()\n",
    "train = opt.minimize(-lik)\n",
    "\n",
    "init_op = tf.global_variables_initializer()\n",
    "sess.run(init_op)\n"
   ]
  },
  {
   "cell_type": "code",
   "execution_count": 7,
   "metadata": {},
   "outputs": [
    {
     "name": "stdout",
     "output_type": "stream",
     "text": [
      "-31.7644275211\n",
      "-25.6390435259\n",
      "-19.2464984971\n",
      "-15.6019837324\n",
      "-12.0844452611\n",
      "-10.1543507465\n",
      "-9.76409208264\n",
      "-10.8726706169\n",
      "-11.1616155178\n",
      "-9.97941087431\n"
     ]
    }
   ],
   "source": [
    "for i in range(num_iter):\n",
    "    inds = np.random.choice(len(Y_dat), M, replace=False)\n",
    "    Xs = X_dat[inds,]\n",
    "    Ys = Y_dat[inds,] % 2\n",
    "    Ys = np.expand_dims(Ys, 1)\n",
    "#    print(np.min(sess.run(m.q_sqrt)))\n",
    "#    print(np.min(sess.run(m.Z)))\n",
    "#    print(np.min(sess.run(fvar, {X: X_dat, drop: 0.5})))\n",
    "    sess.run(train, {Y: Ys, X: Xs, drop: 0.5, phase: True, _iter: i})\n",
    "    if i % (num_iter//10) == 0:\n",
    "        print(sess.run(lik, {Y: Ys, X: Xs, drop: 0.5, phase: True}))"
   ]
  },
  {
   "cell_type": "code",
   "execution_count": 277,
   "metadata": {
    "collapsed": true
   },
   "outputs": [],
   "source": [
    "def outlier_minmax(m=m):\n",
    "    ms,vs = sess.run(m.predict_y(X), {X: X_s, phase: True})\n",
    "    min_id = np.where(np.abs(preds-0.5) == min( np.abs(preds-0.5)))[0]\n",
    "    min_id_global = M*i + min_id\n",
    "    max_id = np.where(np.abs(preds-0.5) == max( np.abs(preds-0.5)))[0]\n",
    "    max_id_global = M*i + max_id\n",
    "    print(min_id_global)\n",
    "    print(np.sqrt(vs[min_id]))\n",
    "    print(preds[min_id])\n",
    "    plt.imshow(X_s[min_id].reshape([28,28]), cmap='gray')\n",
    "    plt.show()\n",
    "    print(max_id_global)\n",
    "    print(np.sqrt(vs[max_id]))\n",
    "    print(preds[max_id])\n",
    "    plt.imshow(X_s[max_id].reshape([28,28]), cmap='gray')\n",
    "    plt.show()\n",
    "    print(\"While the smallest variance is:\" + str(np.where(vs == np.min(vs))[0]))\n",
    "    print(\"While the largest variance is:\" + str(np.where(vs == np.max(vs))[0]))\n",
    "    min_pt = X_s[min_id]\n",
    "    max_pt = X_s[max_id]\n",
    "    min_pred = preds[min_id]\n",
    "    max_pred = preds[max_id]\n",
    "    return min_pt, max_pt, min_pred, max_pred"
   ]
  },
  {
   "cell_type": "code",
   "execution_count": 278,
   "metadata": {
    "collapsed": true
   },
   "outputs": [],
   "source": [
    "def sample_test(test_pts, n_iter, m=m):\n",
    "    N = len(X_dat)\n",
    "    L = len(test_pts)\n",
    "    ms = np.zeros([L, n_iter])\n",
    "    vs = np.zeros([L, n_iter])\n",
    "    for j in range(n_iter):\n",
    "#         for k in range(len(test_inds)):\n",
    "#             random_inds = np.random.choice(np.setdiff1d(list(range(ntest)), test_inds), M - 1, replace=False)\n",
    "#             inds = np.concatenate([[test_inds[k]], random_inds])\n",
    "#             Xs = X_test[inds,]\n",
    "#             m_s,v_s = sess.run(m.predict_y(X), {X: Xs, phase: True})\n",
    "#             ms[k,j] = m_s[:,0][0]\n",
    "#             vs[k,j] = v_s[:,0][0]\n",
    "        random_inds = np.random.choice(np.setdiff1d(list(range(ntest)), test_pts), M - L, replace=False)\n",
    "        Xs = X_test[random_inds,]\n",
    "        Xs = np.concatenate([test_pts,Xs])\n",
    "        m_s,v_s = sess.run(m.predict_y(X), {X: Xs, phase: True})\n",
    "        ms[:,j] = m_s[:,0][0:L]\n",
    "        vs[:,j] = v_s[:,0][0:L]\n",
    "    return ms,vs"
   ]
  },
  {
   "cell_type": "code",
   "execution_count": 392,
   "metadata": {},
   "outputs": [
    {
     "name": "stdout",
     "output_type": "stream",
     "text": [
      "-99.1319110926\n",
      "-26.5067852113\n",
      "-7.32617440874\n",
      "-6.10780703859\n",
      "-5.64506781802\n",
      "-6.43116561643\n",
      "-4.79256318877\n",
      "-4.45825044434\n",
      "-4.21491563283\n",
      "-4.02412198467\n"
     ]
    },
    {
     "data": {
      "text/plain": [
       "[0.015500000000000003]"
      ]
     },
     "execution_count": 392,
     "metadata": {},
     "output_type": "execute_result"
    }
   ],
   "source": [
    "j=3\n",
    "ntrain = 10**(j+1)\n",
    "M = batch_size = min(100,ntrain//2)\n",
    "ntest = 20*M\n",
    "tf.reset_default_graph()\n",
    "drop = tf.placeholder(tf.float64)\n",
    "phase = tf.placeholder(tf.bool)\n",
    "\n",
    "sess = tf.InteractiveSession()\n",
    "k = Deep(input_dim=784,nn=NN_BN, scope = \"kern\")\n",
    "X_dat, Y_dat = mnist.train.next_batch(ntrain)\n",
    "X_test, Y_test = mnist.train.next_batch(ntest)\n",
    "Z = X_dat[0:M,]\n",
    "X = tf.placeholder(_settings.tf_float, [M,784])\n",
    "Y = tf.placeholder(_settings.tf_float, [M,1])\n",
    "\n",
    "with tf.variable_scope(k.scope):\n",
    "    xm = NN_BN(X)\n",
    "\n",
    "num_iter = 5000\n",
    "\n",
    "m = svgp.SVGP(X, Y,kern=k,\n",
    "                   likelihood=likelihoods.Bernoulli(),Z=Z,minibatch_size=M)\n",
    "\n",
    "_iter = tf.placeholder(tf.int32, shape=None)\n",
    "\n",
    "decay = tf.maximum(0., 1.-(tf.cast(_iter, tf.float32)/(num_iter)))\n",
    "\n",
    "opt = tf.train.AdamOptimizer(0.001)\n",
    "lik = m._build_likelihood()\n",
    "train = opt.minimize(-lik)\n",
    "\n",
    "\n",
    "k = Deep(input_dim=784,nn=NN,scope=\"kern2\")\n",
    "X_dat, Y_dat = mnist.train.next_batch(ntrain)\n",
    "X_test, Y_test = mnist.train.next_batch(ntest)\n",
    "Z = X_dat[0:M,]\n",
    "\n",
    "with tf.variable_scope(k.scope):\n",
    "    xm = NN(X)\n",
    "\n",
    "m2 = svgp.SVGP(X, Y,kern=k,\n",
    "                   likelihood=likelihoods.Bernoulli(),Z=Z,minibatch_size=M)\n",
    "\n",
    "lik2 = m2._build_likelihood()\n",
    "train2 = opt.minimize(-lik2)\n",
    "\n",
    "\n",
    "## CNN\n",
    "\n",
    "Y_dat2  =  np.expand_dims(Y_dat%2,1)\n",
    "b = np.zeros((len(Y_dat), 2))\n",
    "b[np.arange(len(Y_dat)), Y_dat%2] = 1\n",
    "Y_dat2 = b\n",
    "\n",
    "data = tf.placeholder(tf.float32, [batch_size, 784])\n",
    "target = tf.placeholder(tf.float32, [batch_size, 2])\n",
    "\n",
    "\n",
    "logit3 = CNN_BN(data)\n",
    "\n",
    "prediction3 = tf.nn.softmax(logit3)\n",
    "\n",
    "loss3 = tf.losses.softmax_cross_entropy(target, logit3)\n",
    "\n",
    "opt = tf.train.AdamOptimizer()\n",
    "\n",
    "train3 = opt.minimize(loss3)\n",
    "\n",
    "\n",
    "\n",
    "logit4 = CNN(data)\n",
    "\n",
    "prediction4 = tf.nn.softmax(logit4)\n",
    "\n",
    "loss4 = tf.losses.softmax_cross_entropy(target, logit4)\n",
    "\n",
    "opt = tf.train.AdamOptimizer()\n",
    "\n",
    "train4 = opt.minimize(loss4)\n",
    "\n",
    "rng = npr.choice(ntrain,batch_size,replace=False)\n",
    "data_batch = X_dat[rng, ].astype(np.float32)\n",
    "target_batch = Y_dat2[rng, ].astype(np.float32) \n",
    "\n",
    "init_op = tf.global_variables_initializer()\n",
    "sess.run(init_op)\n",
    "\n",
    "\n",
    "for i in range(num_iter):\n",
    "    inds = np.random.choice(len(Y_dat), M, replace=False)\n",
    "    Xs = X_dat[inds,]\n",
    "    Ys = Y_dat[inds,] % 2\n",
    "    Ys = np.expand_dims(Ys, 1)\n",
    "#    print(np.min(sess.run(m.q_sqrt)))\n",
    "#    print(np.min(sess.run(m.Z)))\n",
    "#    print(np.min(sess.run(fvar, {X: X_dat, drop: 0.5})))\n",
    "    sess.run(train, {Y: Ys, X: Xs, drop: 0.5, phase: True, _iter: i})\n",
    "    if i % (num_iter//10) == 0:\n",
    "        print(sess.run(lik, {Y: Ys, X: Xs, drop: 0.5, phase: True}))\n",
    "    results = []\n",
    "for i in range(ntest//batch_size):\n",
    "    X_s = X_test[M*i:(i+1)*M]\n",
    "    preds = sess.run(m.predict_y(X), {X: X_s, phase: True})[0]\n",
    "    actuals = Y_test[batch_size*i:(i+1)*batch_size,] % 2\n",
    "    #result = np.mean((preds.T - actuals)**2)\n",
    "    result = np.mean((np.array([preds.T > 0.5]).astype(np.int8) - actuals)**2)\n",
    "    results = results + [result]\n",
    "[np.mean(results)]"
   ]
  },
  {
   "cell_type": "code",
   "execution_count": 429,
   "metadata": {
    "collapsed": true
   },
   "outputs": [],
   "source": [
    "def make_image(data):\n",
    "    fig = plt.imshow(data, cmap='gray')\n",
    "    fig.axes.get_xaxis().set_visible(False)\n",
    "    fig.axes.get_yaxis().set_visible(False)\n",
    "    plt.show(fig)"
   ]
  },
  {
   "cell_type": "code",
   "execution_count": 431,
   "metadata": {},
   "outputs": [
    {
     "data": {
      "image/png": "[encoded data removed]",
      "text/plain": [
       "<matplotlib.figure.Figure at 0x2834bcf6cf8>"
      ]
     },
     "metadata": {},
     "output_type": "display_data"
    },
    {
     "data": {
      "image/png": "[encoded data removed]",
      "text/plain": [
       "<matplotlib.figure.Figure at 0x2834bd480f0>"
      ]
     },
     "metadata": {},
     "output_type": "display_data"
    }
   ],
   "source": [
    "make_image(min_pt.reshape([28,28]))\n",
    "make_image(min_pt2.reshape([28,28]))"
   ]
  },
  {
   "cell_type": "code",
   "execution_count": 393,
   "metadata": {
    "scrolled": false
   },
   "outputs": [
    {
     "name": "stdout",
     "output_type": "stream",
     "text": [
      "[1904]\n",
      "[[ 0.49802743]]\n",
      "[[ 0.54437004]]\n"
     ]
    },
    {
     "data": {
      "image/png": "[encoded data removed]",
      "text/plain": [
       "<matplotlib.figure.Figure at 0x28338b6c860>"
      ]
     },
     "metadata": {},
     "output_type": "display_data"
    },
    {
     "name": "stdout",
     "output_type": "stream",
     "text": [
      "[1978]\n",
      "[[ 0.06580906]]\n",
      "[[ 0.00434974]]\n"
     ]
    },
    {
     "data": {
      "image/png": "[encoded data removed]",
      "text/plain": [
       "<matplotlib.figure.Figure at 0x28338be3cf8>"
      ]
     },
     "metadata": {},
     "output_type": "display_data"
    },
    {
     "name": "stdout",
     "output_type": "stream",
     "text": [
      "While the smallest variance is:[78]\n",
      "While the largest variance is:[4]\n"
     ]
    }
   ],
   "source": [
    "min_pt,max_pt,min_pred,max_pred = outlier_minmax(m=m)"
   ]
  },
  {
   "cell_type": "code",
   "execution_count": 394,
   "metadata": {
    "collapsed": true
   },
   "outputs": [],
   "source": [
    "ms,vs = sample_test(np.concatenate([min_pt,max_pt]),10,m=m)"
   ]
  },
  {
   "cell_type": "code",
   "execution_count": 395,
   "metadata": {},
   "outputs": [
    {
     "data": {
      "text/plain": [
       "array([ 0.65627991,  0.00563151])"
      ]
     },
     "execution_count": 395,
     "metadata": {},
     "output_type": "execute_result"
    }
   ],
   "source": [
    "np.mean(ms,1)"
   ]
  },
  {
   "cell_type": "code",
   "execution_count": 396,
   "metadata": {},
   "outputs": [
    {
     "data": {
      "text/plain": [
       "array([ 0.2121465 ,  0.00559671])"
      ]
     },
     "execution_count": 396,
     "metadata": {},
     "output_type": "execute_result"
    }
   ],
   "source": [
    "np.mean(vs,1)"
   ]
  },
  {
   "cell_type": "code",
   "execution_count": 397,
   "metadata": {},
   "outputs": [
    {
     "data": {
      "text/plain": [
       "array([ 0.22557659,  0.00559979])"
      ]
     },
     "execution_count": 397,
     "metadata": {},
     "output_type": "execute_result"
    }
   ],
   "source": [
    "np.mean(vs + ms**2,1)- 0.01*(np.sum(ms,1))**2"
   ]
  },
  {
   "cell_type": "code",
   "execution_count": 398,
   "metadata": {},
   "outputs": [
    {
     "name": "stdout",
     "output_type": "stream",
     "text": [
      "-98.9962148685\n",
      "-8.63145697075\n",
      "-6.77014852252\n",
      "-5.66479683346\n",
      "-5.08149259407\n",
      "-4.56196088479\n",
      "-4.20556841508\n",
      "-3.94212584859\n",
      "-3.74695591514\n",
      "-3.60229053523\n"
     ]
    },
    {
     "data": {
      "text/plain": [
       "[0.015500000000000003]"
      ]
     },
     "execution_count": 398,
     "metadata": {},
     "output_type": "execute_result"
    }
   ],
   "source": [
    "\n",
    "\n",
    "for i in range(num_iter):\n",
    "    inds = np.random.choice(len(Y_dat), M, replace=False)\n",
    "    Xs = X_dat[inds,]\n",
    "    Ys = Y_dat[inds,] % 2\n",
    "    Ys = np.expand_dims(Ys, 1)\n",
    "#    print(np.min(sess.run(m.q_sqrt)))\n",
    "#    print(np.min(sess.run(m.Z)))\n",
    "#    print(np.min(sess.run(fvar, {X: X_dat, drop: 0.5})))\n",
    "    sess.run(train2, {Y: Ys, X: Xs, drop: 0.5, phase: True, _iter: i})\n",
    "    if i % (num_iter//10) == 0:\n",
    "        print(sess.run(lik2, {Y: Ys, X: Xs, drop: 0.5, phase: True}))\n",
    "    results = []\n",
    "for i in range(ntest//batch_size):\n",
    "    X_s = X_test[M*i:(i+1)*M]\n",
    "    preds = sess.run(m2.predict_y(X), {X: X_s, phase: True})[0]\n",
    "    actuals = Y_test[batch_size*i:(i+1)*batch_size,] % 2\n",
    "    #result = np.mean((preds.T - actuals)**2)\n",
    "    result = np.mean((np.array([preds.T > 0.5]).astype(np.int8) - actuals)**2)\n",
    "    results = results + [result]\n",
    "[np.mean(results)]"
   ]
  },
  {
   "cell_type": "code",
   "execution_count": 399,
   "metadata": {},
   "outputs": [
    {
     "name": "stdout",
     "output_type": "stream",
     "text": [
      "[1940]\n",
      "[[ 0.49996928]]\n",
      "[[ 0.49445792]]\n"
     ]
    },
    {
     "data": {
      "image/png": "[encoded data removed]",
      "text/plain": [
       "<matplotlib.figure.Figure at 0x282bf264f98>"
      ]
     },
     "metadata": {},
     "output_type": "display_data"
    },
    {
     "name": "stdout",
     "output_type": "stream",
     "text": [
      "[1987]\n",
      "[[ 0.06124704]]\n",
      "[[ 0.99623462]]\n"
     ]
    },
    {
     "data": {
      "image/png": "[encoded data removed]",
      "text/plain": [
       "<matplotlib.figure.Figure at 0x282bf294668>"
      ]
     },
     "metadata": {},
     "output_type": "display_data"
    },
    {
     "name": "stdout",
     "output_type": "stream",
     "text": [
      "While the smallest variance is:[87]\n",
      "While the largest variance is:[40]\n"
     ]
    }
   ],
   "source": [
    "min_pt2,max_pt2,min_pred2,max_pred2 = outlier_minmax(m=m2)"
   ]
  },
  {
   "cell_type": "code",
   "execution_count": 400,
   "metadata": {
    "scrolled": true
   },
   "outputs": [
    {
     "name": "stdout",
     "output_type": "stream",
     "text": [
      "0.34348449111\n",
      "0.00232523004524\n",
      "0.00368496892042\n",
      "0.00113458698615\n",
      "0.000311787880491\n",
      "0.000202521405299\n",
      "8.94661643542e-05\n",
      "4.52453132311e-05\n",
      "2.05346168514e-05\n",
      "1.13794658319e-05\n",
      "[0.016000000000000004]\n",
      "0.600943803787\n",
      "0.000374194351025\n",
      "1.4032535546e-05\n",
      "0.000123241901747\n",
      "1.24880500607e-06\n",
      "3.06357424051e-06\n",
      "3.4861786844e-06\n",
      "1.28114299969e-06\n",
      "1.09798247649e-06\n",
      "1.11756958177e-06\n"
     ]
    }
   ],
   "source": [
    "for i in range(num_iter):\n",
    "    rng = npr.choice(len(X_dat),batch_size,replace=False)\n",
    "    data_batch = X_dat[rng, ].astype(np.float32)\n",
    "    target_batch = Y_dat2[rng, ].astype(np.float32) \n",
    "    sess.run(train3, {data: data_batch, target: target_batch, phase: True})\n",
    "    if i % (num_iter//10) == 0:\n",
    "        print(sess.run(loss3, {data: data_batch, target: target_batch, phase: True}))\n",
    "    \n",
    "results = []\n",
    "for i in range(ntest//batch_size):\n",
    "    Xs = X_test[M*i:(i+1)*M]\n",
    "    preds = sess.run(1/(1+tf.exp(-logit3)),{data: Xs, phase: True})[:,1]\n",
    "    actuals = Y_test[batch_size*i:(i+1)*batch_size,] % 2\n",
    "    #result = np.mean((preds - actuals)**2)\n",
    "    result = np.mean((np.array([preds > 0.5]).astype(np.int8) - actuals)**2)\n",
    "    results = results + [result]\n",
    "print([np.mean(results)])\n",
    "\n",
    "for i in range(num_iter):\n",
    "    rng = npr.choice(len(X_dat),batch_size,replace=False)\n",
    "    data_batch = X_dat[rng, ].astype(np.float32)\n",
    "    target_batch = Y_dat2[rng, ].astype(np.float32) \n",
    "    sess.run(train4, {data: data_batch, target: target_batch, phase: True})\n",
    "    if i % (num_iter//10) == 0:\n",
    "        print(sess.run(loss4, {data: data_batch, target: target_batch, phase: True}))"
   ]
  },
  {
   "cell_type": "code",
   "execution_count": 401,
   "metadata": {},
   "outputs": [
    {
     "name": "stdout",
     "output_type": "stream",
     "text": [
      "[0.017500000000000005]\n"
     ]
    }
   ],
   "source": [
    "results = []\n",
    "for i in range(ntest//batch_size):\n",
    "    Xs = X_test[M*i:(i+1)*M]\n",
    "    preds = sess.run(1/(1+tf.exp(-logit4)),{data: Xs, phase: True})[:,1]\n",
    "    actuals = Y_test[batch_size*i:(i+1)*batch_size,] % 2\n",
    "    #result = np.mean((preds - actuals)**2)\n",
    "    result = np.mean((np.array([preds > 0.5]).astype(np.int8) - actuals)**2)\n",
    "    results = results + [result]\n",
    "print([np.mean(results)])"
   ]
  },
  {
   "cell_type": "code",
   "execution_count": 402,
   "metadata": {
    "collapsed": true
   },
   "outputs": [],
   "source": [
    "ms_12,vs_12 = sample_test(np.concatenate([min_pt,max_pt]),1,m=m2)"
   ]
  },
  {
   "cell_type": "code",
   "execution_count": 403,
   "metadata": {},
   "outputs": [
    {
     "data": {
      "text/plain": [
       "array([[ 0.73272738],\n",
       "       [ 0.0062941 ]])"
      ]
     },
     "execution_count": 403,
     "metadata": {},
     "output_type": "execute_result"
    }
   ],
   "source": [
    "ms_12"
   ]
  },
  {
   "cell_type": "code",
   "execution_count": 404,
   "metadata": {},
   "outputs": [
    {
     "data": {
      "text/plain": [
       "array([[ 0.19583796],\n",
       "       [ 0.00625448]])"
      ]
     },
     "execution_count": 404,
     "metadata": {},
     "output_type": "execute_result"
    }
   ],
   "source": [
    "vs_12"
   ]
  },
  {
   "cell_type": "code",
   "execution_count": 405,
   "metadata": {
    "collapsed": true
   },
   "outputs": [],
   "source": [
    "ms_21, vs_21 = sample_test(np.concatenate([min_pt2,max_pt2]),10,m=m)"
   ]
  },
  {
   "cell_type": "code",
   "execution_count": 406,
   "metadata": {},
   "outputs": [
    {
     "data": {
      "text/plain": [
       "array([ 0.91735079,  0.99297136])"
      ]
     },
     "execution_count": 406,
     "metadata": {},
     "output_type": "execute_result"
    }
   ],
   "source": [
    "np.mean(ms_21,1)"
   ]
  },
  {
   "cell_type": "code",
   "execution_count": 407,
   "metadata": {},
   "outputs": [
    {
     "data": {
      "text/plain": [
       "array([ 0.06954806,  0.0069772 ])"
      ]
     },
     "execution_count": 407,
     "metadata": {},
     "output_type": "execute_result"
    }
   ],
   "source": [
    "np.mean(vs_21,1)"
   ]
  },
  {
   "cell_type": "code",
   "execution_count": 408,
   "metadata": {},
   "outputs": [
    {
     "data": {
      "text/plain": [
       "array([ 0.07581832,  0.00697924])"
      ]
     },
     "execution_count": 408,
     "metadata": {},
     "output_type": "execute_result"
    }
   ],
   "source": [
    "np.mean(vs_21 + ms_21**2,1)- 0.01*(np.sum(ms_21,1))**2"
   ]
  },
  {
   "cell_type": "code",
   "execution_count": 494,
   "metadata": {
    "scrolled": true
   },
   "outputs": [
    {
     "name": "stdout",
     "output_type": "stream",
     "text": [
      "[ 0.51348574]\n"
     ]
    },
    {
     "data": {
      "image/png": "[encoded data removed]",
      "text/plain": [
       "<matplotlib.figure.Figure at 0x28367da6630>"
      ]
     },
     "metadata": {},
     "output_type": "display_data"
    },
    {
     "data": {
      "image/png": "[encoded data removed]",
      "text/plain": [
       "<matplotlib.figure.Figure at 0x28370a82160>"
      ]
     },
     "metadata": {},
     "output_type": "display_data"
    }
   ],
   "source": [
    "all_preds = np.array([])\n",
    "inds = np.array([])\n",
    "\n",
    "for i in range(10):\n",
    "    random_inds = np.random.choice(list(range(ntest)), M )\n",
    "    X_s = X_test[random_inds]\n",
    "    preds = sess.run(m.predict_y(X), {X: X_s, phase: True})[0][:,0]\n",
    "    all_preds = np.concatenate([all_preds, preds])\n",
    "    inds = np.concatenate([inds,random_inds])\n",
    "ind=np.where(np.abs(all_preds-0.5) == min( np.abs(all_preds-0.5)))[0]\n",
    "print(all_preds[ind])\n",
    "ind = inds[ind]\n",
    "indd = ind.astype(np.int)[0]\n",
    "make_image(X_test[indd].reshape(28,28))\n",
    "plt.hist(all_preds,10)\n",
    "plt.show()"
   ]
  },
  {
   "cell_type": "code",
   "execution_count": 495,
   "metadata": {},
   "outputs": [
    {
     "name": "stdout",
     "output_type": "stream",
     "text": [
      "[ 0.50183405]\n"
     ]
    },
    {
     "data": {
      "image/png": "[encoded data removed]",
      "text/plain": [
       "<matplotlib.figure.Figure at 0x28370acdba8>"
      ]
     },
     "metadata": {},
     "output_type": "display_data"
    },
    {
     "data": {
      "image/png": "[encoded data removed]",
      "text/plain": [
       "<matplotlib.figure.Figure at 0x28372aab5f8>"
      ]
     },
     "metadata": {},
     "output_type": "display_data"
    }
   ],
   "source": [
    "all_preds = np.array([])\n",
    "inds = np.array([])\n",
    "\n",
    "for i in range(10):\n",
    "    random_inds = np.random.choice(list(range(ntest)), M )\n",
    "    X_s = X_test[random_inds]\n",
    "    preds = sess.run(m2.predict_y(X), {X: X_s, phase: True})[0][:,0]\n",
    "    all_preds = np.concatenate([all_preds, preds])\n",
    "    inds = np.concatenate([inds,random_inds])\n",
    "ind=np.where(np.abs(all_preds-0.5) == min( np.abs(all_preds-0.5)))[0]\n",
    "print(all_preds[ind])\n",
    "ind = inds[ind]\n",
    "indd = ind.astype(np.int)[0]\n",
    "make_image(X_test[indd].reshape(28,28))\n",
    "plt.hist(all_preds,10)\n",
    "plt.show()"
   ]
  },
  {
   "cell_type": "code",
   "execution_count": 481,
   "metadata": {},
   "outputs": [
    {
     "name": "stdout",
     "output_type": "stream",
     "text": [
      "[ 0.49087539]\n"
     ]
    },
    {
     "data": {
      "image/png": "[encoded data removed]",
      "text/plain": [
       "<matplotlib.figure.Figure at 0x28350409c50>"
      ]
     },
     "metadata": {},
     "output_type": "display_data"
    }
   ],
   "source": [
    "all_preds = np.array([])\n",
    "inds = np.array([])\n",
    "\n",
    "for j in range(10):\n",
    "    random_inds = np.random.choice(list(range(ntest)), M )\n",
    "    Xs = X_test[random_inds]\n",
    "    preds = sess.run(1/(1+tf.exp(-logit3)),{data: Xs, phase: True})[:,1]\n",
    "    all_preds = np.concatenate([all_preds, preds])\n",
    "    inds = np.concatenate([inds,random_inds])\n",
    "ind=np.where(np.abs(all_preds-0.5) == min( np.abs(all_preds-0.5)))[0]\n",
    "print(all_preds[ind])\n",
    "ind = inds[ind]\n",
    "indd = ind.astype(np.int)[0]\n",
    "make_image(X_test[indd].reshape(28,28))\n",
    "plt.hist(all_preds,10)\n",
    "plt.show()"
   ]
  },
  {
   "cell_type": "code",
   "execution_count": 482,
   "metadata": {},
   "outputs": [
    {
     "data": {
      "image/png": "[encoded data removed]",
      "text/plain": [
       "<matplotlib.figure.Figure at 0x283503c5550>"
      ]
     },
     "metadata": {},
     "output_type": "display_data"
    }
   ],
   "source": [
    "plt.hist(all_preds,10)\n",
    "plt.show()"
   ]
  },
  {
   "cell_type": "code",
   "execution_count": 483,
   "metadata": {},
   "outputs": [
    {
     "name": "stdout",
     "output_type": "stream",
     "text": [
      "[ 0.36120946  0.36120946]\n"
     ]
    },
    {
     "data": {
      "image/png": "[encoded data removed]",
      "text/plain": [
       "<matplotlib.figure.Figure at 0x283504b6eb8>"
      ]
     },
     "metadata": {},
     "output_type": "display_data"
    }
   ],
   "source": [
    "all_preds = np.array([])\n",
    "inds = np.array([])\n",
    "\n",
    "for j in range(10):\n",
    "    random_inds = np.random.choice(list(range(ntest)), M )\n",
    "    Xs = X_test[random_inds]\n",
    "    preds = sess.run(1/(1+tf.exp(-logit4)),{data: Xs, phase: True})[:,1]\n",
    "    all_preds = np.concatenate([all_preds, preds])\n",
    "    inds = np.concatenate([inds,random_inds])\n",
    "ind=np.where(np.abs(all_preds-0.5) == min( np.abs(all_preds-0.5)))[0]\n",
    "print(all_preds[ind])\n",
    "ind = inds[ind]\n",
    "indd = ind.astype(np.int)[0]\n",
    "make_image(X_test[indd].reshape(28,28))"
   ]
  },
  {
   "cell_type": "code",
   "execution_count": 484,
   "metadata": {},
   "outputs": [
    {
     "data": {
      "image/png": "[encoded data removed]",
      "text/plain": [
       "<matplotlib.figure.Figure at 0x283504bc400>"
      ]
     },
     "metadata": {},
     "output_type": "display_data"
    }
   ],
   "source": [
    "plt.hist(all_preds,10)\n",
    "plt.show()"
   ]
  },
  {
   "cell_type": "code",
   "execution_count": 413,
   "metadata": {},
   "outputs": [
    {
     "name": "stdout",
     "output_type": "stream",
     "text": [
      "[ 0.82143424  0.00224674]\n",
      "[  1.19109263e-02   4.02164196e-06]\n"
     ]
    }
   ],
   "source": [
    "n_iter = 50\n",
    "L = 2\n",
    "predictions13 = np.zeros([L, n_iter])\n",
    "for j in range(n_iter):\n",
    "    random_inds = np.random.choice(list(range(ntest)), M - 2)\n",
    "    Xs = X_test[random_inds]\n",
    "    Xs = np.concatenate([np.squeeze(np.array([min_pt,max_pt])),Xs])\n",
    "    preds = sess.run(1/(1+tf.exp(-logit3)),{data: Xs, phase: True})[:,1]\n",
    "    result = preds[0:2]\n",
    "    predictions13[:,j] = result\n",
    "print(np.mean(predictions13,1))\n",
    "print(np.var(predictions13,1))"
   ]
  },
  {
   "cell_type": "code",
   "execution_count": 414,
   "metadata": {},
   "outputs": [
    {
     "name": "stdout",
     "output_type": "stream",
     "text": [
      "[  3.51625850e-03   9.66107756e-06]\n",
      "[  1.88079096e-37   0.00000000e+00]\n"
     ]
    }
   ],
   "source": [
    "n_iter = 50\n",
    "L = 2\n",
    "predictions14 = np.zeros([L, n_iter])\n",
    "for j in range(n_iter):\n",
    "    random_inds = np.random.choice(list(range(ntest)), M - 2)\n",
    "    Xs = X_test[random_inds]\n",
    "    Xs = np.concatenate([np.squeeze(np.array([min_pt,max_pt])),Xs])\n",
    "    preds = sess.run(1/(1+tf.exp(-logit4)),{data: Xs, phase: True})[:,1]\n",
    "    result = preds[0:2]\n",
    "    predictions14[:,j] = result\n",
    "print(np.mean(predictions14,1))\n",
    "print(np.var(predictions14,1))"
   ]
  },
  {
   "cell_type": "code",
   "execution_count": 415,
   "metadata": {},
   "outputs": [
    {
     "name": "stdout",
     "output_type": "stream",
     "text": [
      "[ 0.85708826  0.99320135]\n",
      "[  1.53971605e-02   7.26447036e-05]\n"
     ]
    }
   ],
   "source": [
    "n_iter = 50\n",
    "L = 2\n",
    "predictions23 = np.zeros([L, n_iter])\n",
    "for j in range(n_iter):\n",
    "    random_inds = np.random.choice(list(range(ntest)), M - 2)\n",
    "    Xs = X_test[random_inds]\n",
    "    Xs = np.concatenate([np.squeeze(np.array([min_pt2,max_pt2])),Xs])\n",
    "    preds = sess.run(1/(1+tf.exp(-logit3)),{data: Xs, phase: True})[:,1]\n",
    "    result = preds[0:2]\n",
    "    predictions23[:,j] = result\n",
    "print(np.mean(predictions23,1))\n",
    "print(np.var(predictions23,1))"
   ]
  },
  {
   "cell_type": "code",
   "execution_count": 416,
   "metadata": {},
   "outputs": [
    {
     "name": "stdout",
     "output_type": "stream",
     "text": [
      "[ 0.99935889  0.99999888]\n",
      "[  1.23259516e-32   0.00000000e+00]\n"
     ]
    }
   ],
   "source": [
    "n_iter = 50\n",
    "L = 2\n",
    "predictions24 = np.zeros([L, n_iter])\n",
    "for j in range(n_iter):\n",
    "    random_inds = np.random.choice(list(range(ntest)), M - 2)\n",
    "    Xs = X_test[random_inds]\n",
    "    Xs = np.concatenate([np.squeeze(np.array([min_pt2,max_pt2])),Xs])\n",
    "    preds = sess.run(1/(1+tf.exp(-logit4)),{data: Xs, phase: True})[:,1]\n",
    "    result = preds[0:2]\n",
    "    predictions24[:,j] = result\n",
    "print(np.mean(predictions24,1))\n",
    "print(np.var(predictions24,1))"
   ]
  },
  {
   "cell_type": "code",
   "execution_count": null,
   "metadata": {
    "collapsed": true
   },
   "outputs": [],
   "source": [
    "final_results_bn = []\n",
    "final_results_no_bn = []\n",
    "final_results_dnn_bn = []\n",
    "final_results_dnn_no_bn = []"
   ]
  },
  {
   "cell_type": "code",
   "execution_count": 506,
   "metadata": {},
   "outputs": [
    {
     "ename": "ValueError",
     "evalue": "Input graph and Layer graph are not the same: Tensor(\"Reshape_256:0\", shape=(32, 28, 28, 1), dtype=float32) is not from the passed-in graph.",
     "output_type": "error",
     "traceback": [
      "\u001b[1;31m---------------------------------------------------------------------------\u001b[0m",
      "\u001b[1;31mValueError\u001b[0m                                Traceback (most recent call last)",
      "\u001b[1;32mC:\\Users\\Lewan\\Anaconda3\\envs\\py35\\lib\\site-packages\\tensorflow\\python\\layers\\base.py\u001b[0m in \u001b[0;36m__call__\u001b[1;34m(self, inputs, *args, **kwargs)\u001b[0m\n\u001b[0;32m    418\u001b[0m     \u001b[1;32mtry\u001b[0m\u001b[1;33m:\u001b[0m\u001b[1;33m\u001b[0m\u001b[0m\n\u001b[1;32m--> 419\u001b[1;33m       \u001b[0mops\u001b[0m\u001b[1;33m.\u001b[0m\u001b[0m_get_graph_from_inputs\u001b[0m\u001b[1;33m(\u001b[0m\u001b[0mnest\u001b[0m\u001b[1;33m.\u001b[0m\u001b[0mflatten\u001b[0m\u001b[1;33m(\u001b[0m\u001b[0minputs\u001b[0m\u001b[1;33m)\u001b[0m\u001b[1;33m,\u001b[0m \u001b[0mgraph\u001b[0m\u001b[1;33m=\u001b[0m\u001b[0mself\u001b[0m\u001b[1;33m.\u001b[0m\u001b[0mgraph\u001b[0m\u001b[1;33m)\u001b[0m  \u001b[1;31m# pylint: disable=protected-access\u001b[0m\u001b[1;33m\u001b[0m\u001b[0m\n\u001b[0m\u001b[0;32m    420\u001b[0m     \u001b[1;32mexcept\u001b[0m \u001b[0mValueError\u001b[0m \u001b[1;32mas\u001b[0m \u001b[0me\u001b[0m\u001b[1;33m:\u001b[0m\u001b[1;33m\u001b[0m\u001b[0m\n",
      "\u001b[1;32mC:\\Users\\Lewan\\Anaconda3\\envs\\py35\\lib\\site-packages\\tensorflow\\python\\framework\\ops.py\u001b[0m in \u001b[0;36m_get_graph_from_inputs\u001b[1;34m(op_input_list, graph)\u001b[0m\n\u001b[0;32m   4101\u001b[0m         raise ValueError(\n\u001b[1;32m-> 4102\u001b[1;33m             \"%s is not from the passed-in graph.\" % graph_element)\n\u001b[0m\u001b[0;32m   4103\u001b[0m \u001b[1;33m\u001b[0m\u001b[0m\n",
      "\u001b[1;31mValueError\u001b[0m: Tensor(\"Reshape_256:0\", shape=(32, 28, 28, 1), dtype=float32) is not from the passed-in graph.",
      "\nDuring handling of the above exception, another exception occurred:\n",
      "\u001b[1;31mValueError\u001b[0m                                Traceback (most recent call last)",
      "\u001b[1;32m<ipython-input-506-97ce238ad578>\u001b[0m in \u001b[0;36m<module>\u001b[1;34m()\u001b[0m\n\u001b[0;32m      2\u001b[0m \u001b[1;32mfor\u001b[0m \u001b[0mi\u001b[0m \u001b[1;32min\u001b[0m \u001b[0mrange\u001b[0m\u001b[1;33m(\u001b[0m\u001b[0mntest\u001b[0m\u001b[1;33m//\u001b[0m\u001b[0mbatch_size\u001b[0m\u001b[1;33m)\u001b[0m\u001b[1;33m:\u001b[0m\u001b[1;33m\u001b[0m\u001b[0m\n\u001b[0;32m      3\u001b[0m     \u001b[0mX_s\u001b[0m \u001b[1;33m=\u001b[0m \u001b[0mX_test\u001b[0m\u001b[1;33m[\u001b[0m\u001b[0mM\u001b[0m\u001b[1;33m*\u001b[0m\u001b[0mi\u001b[0m\u001b[1;33m:\u001b[0m\u001b[1;33m(\u001b[0m\u001b[0mi\u001b[0m\u001b[1;33m+\u001b[0m\u001b[1;36m1\u001b[0m\u001b[1;33m)\u001b[0m\u001b[1;33m*\u001b[0m\u001b[0mM\u001b[0m\u001b[1;33m]\u001b[0m\u001b[1;33m\u001b[0m\u001b[0m\n\u001b[1;32m----> 4\u001b[1;33m     \u001b[0mpreds\u001b[0m \u001b[1;33m=\u001b[0m \u001b[0msess\u001b[0m\u001b[1;33m.\u001b[0m\u001b[0mrun\u001b[0m\u001b[1;33m(\u001b[0m\u001b[0mm\u001b[0m\u001b[1;33m.\u001b[0m\u001b[0mpredict_y\u001b[0m\u001b[1;33m(\u001b[0m\u001b[0mX\u001b[0m\u001b[1;33m)\u001b[0m\u001b[1;33m,\u001b[0m \u001b[1;33m{\u001b[0m\u001b[0mX\u001b[0m\u001b[1;33m:\u001b[0m \u001b[0mX_s\u001b[0m\u001b[1;33m,\u001b[0m \u001b[0mphase\u001b[0m\u001b[1;33m:\u001b[0m \u001b[1;32mTrue\u001b[0m\u001b[1;33m}\u001b[0m\u001b[1;33m)\u001b[0m\u001b[1;33m[\u001b[0m\u001b[1;36m0\u001b[0m\u001b[1;33m]\u001b[0m\u001b[1;33m\u001b[0m\u001b[0m\n\u001b[0m\u001b[0;32m      5\u001b[0m     \u001b[0mactuals\u001b[0m \u001b[1;33m=\u001b[0m \u001b[0mY_test\u001b[0m\u001b[1;33m[\u001b[0m\u001b[0mbatch_size\u001b[0m\u001b[1;33m*\u001b[0m\u001b[0mi\u001b[0m\u001b[1;33m:\u001b[0m\u001b[1;33m(\u001b[0m\u001b[0mi\u001b[0m\u001b[1;33m+\u001b[0m\u001b[1;36m1\u001b[0m\u001b[1;33m)\u001b[0m\u001b[1;33m*\u001b[0m\u001b[0mbatch_size\u001b[0m\u001b[1;33m,\u001b[0m\u001b[1;33m]\u001b[0m \u001b[1;33m%\u001b[0m \u001b[1;36m2\u001b[0m\u001b[1;33m\u001b[0m\u001b[0m\n\u001b[0;32m      6\u001b[0m     \u001b[1;31m#result = np.mean((preds.T - actuals)**2)\u001b[0m\u001b[1;33m\u001b[0m\u001b[1;33m\u001b[0m\u001b[0m\n",
      "\u001b[1;32mC:\\Users\\Lewan\\work\\thesis\\code\\recurrent\\models.py\u001b[0m in \u001b[0;36mpredict_y\u001b[1;34m(self, Xnew)\u001b[0m\n\u001b[0;32m    161\u001b[0m         \u001b[0mCompute\u001b[0m \u001b[0mthe\u001b[0m \u001b[0mmean\u001b[0m \u001b[1;32mand\u001b[0m \u001b[0mvariance\u001b[0m \u001b[0mof\u001b[0m \u001b[0mheld\u001b[0m\u001b[1;33m-\u001b[0m\u001b[0mout\u001b[0m \u001b[0mdata\u001b[0m \u001b[0mat\u001b[0m \u001b[0mthe\u001b[0m \u001b[0mpoints\u001b[0m \u001b[0mXnew\u001b[0m\u001b[1;33m\u001b[0m\u001b[0m\n\u001b[0;32m    162\u001b[0m         \"\"\"\n\u001b[1;32m--> 163\u001b[1;33m         \u001b[0mpred_f_mean\u001b[0m\u001b[1;33m,\u001b[0m \u001b[0mpred_f_var\u001b[0m \u001b[1;33m=\u001b[0m \u001b[0mself\u001b[0m\u001b[1;33m.\u001b[0m\u001b[0m_build_predict\u001b[0m\u001b[1;33m(\u001b[0m\u001b[0mXnew\u001b[0m\u001b[1;33m)\u001b[0m\u001b[1;33m\u001b[0m\u001b[0m\n\u001b[0m\u001b[0;32m    164\u001b[0m         \u001b[1;32mreturn\u001b[0m \u001b[0mself\u001b[0m\u001b[1;33m.\u001b[0m\u001b[0mlikelihood\u001b[0m\u001b[1;33m.\u001b[0m\u001b[0mpredict_mean_and_var\u001b[0m\u001b[1;33m(\u001b[0m\u001b[0mpred_f_mean\u001b[0m\u001b[1;33m,\u001b[0m \u001b[0mpred_f_var\u001b[0m\u001b[1;33m)\u001b[0m\u001b[1;33m\u001b[0m\u001b[0m\n\u001b[0;32m    165\u001b[0m \u001b[1;33m\u001b[0m\u001b[0m\n",
      "\u001b[1;32mC:\\Users\\Lewan\\work\\thesis\\code\\recurrent\\svgp.py\u001b[0m in \u001b[0;36m_build_predict\u001b[1;34m(self, Xnew, full_cov)\u001b[0m\n\u001b[0;32m    117\u001b[0m     \u001b[1;32mdef\u001b[0m \u001b[0m_build_predict\u001b[0m\u001b[1;33m(\u001b[0m\u001b[0mself\u001b[0m\u001b[1;33m,\u001b[0m \u001b[0mXnew\u001b[0m\u001b[1;33m,\u001b[0m \u001b[0mfull_cov\u001b[0m\u001b[1;33m=\u001b[0m\u001b[1;32mFalse\u001b[0m\u001b[1;33m)\u001b[0m\u001b[1;33m:\u001b[0m\u001b[1;33m\u001b[0m\u001b[0m\n\u001b[0;32m    118\u001b[0m         mu, var = conditionals.conditional(Xnew, self.Z, self.kern, self.q_mu,\n\u001b[1;32m--> 119\u001b[1;33m                                            q_sqrt=self.q_sqrt, full_cov=full_cov, whiten=self.whiten)\n\u001b[0m\u001b[0;32m    120\u001b[0m         \u001b[1;32mreturn\u001b[0m \u001b[0mmu\u001b[0m \u001b[1;33m+\u001b[0m \u001b[0mself\u001b[0m\u001b[1;33m.\u001b[0m\u001b[0mmean_function\u001b[0m\u001b[1;33m(\u001b[0m\u001b[0mXnew\u001b[0m\u001b[1;33m)\u001b[0m\u001b[1;33m,\u001b[0m \u001b[0mvar\u001b[0m\u001b[1;33m\u001b[0m\u001b[0m\n",
      "\u001b[1;32mC:\\Users\\Lewan\\work\\thesis\\code\\recurrent\\conditionals.py\u001b[0m in \u001b[0;36mconditional\u001b[1;34m(Xnew, X, kern, f, full_cov, q_sqrt, whiten)\u001b[0m\n\u001b[0;32m     61\u001b[0m     \u001b[0mnum_data\u001b[0m \u001b[1;33m=\u001b[0m \u001b[0mtf\u001b[0m\u001b[1;33m.\u001b[0m\u001b[0mshape\u001b[0m\u001b[1;33m(\u001b[0m\u001b[0mX\u001b[0m\u001b[1;33m)\u001b[0m\u001b[1;33m[\u001b[0m\u001b[1;36m0\u001b[0m\u001b[1;33m]\u001b[0m  \u001b[1;31m# M\u001b[0m\u001b[1;33m\u001b[0m\u001b[0m\n\u001b[0;32m     62\u001b[0m     \u001b[0mnum_func\u001b[0m \u001b[1;33m=\u001b[0m \u001b[0mtf\u001b[0m\u001b[1;33m.\u001b[0m\u001b[0mshape\u001b[0m\u001b[1;33m(\u001b[0m\u001b[0mf\u001b[0m\u001b[1;33m)\u001b[0m\u001b[1;33m[\u001b[0m\u001b[1;36m1\u001b[0m\u001b[1;33m]\u001b[0m  \u001b[1;31m# K\u001b[0m\u001b[1;33m\u001b[0m\u001b[0m\n\u001b[1;32m---> 63\u001b[1;33m     \u001b[0mKmn\u001b[0m \u001b[1;33m=\u001b[0m \u001b[0mkern\u001b[0m\u001b[1;33m.\u001b[0m\u001b[0mK\u001b[0m\u001b[1;33m(\u001b[0m\u001b[0mX\u001b[0m\u001b[1;33m,\u001b[0m \u001b[0mXnew\u001b[0m\u001b[1;33m)\u001b[0m\u001b[1;33m\u001b[0m\u001b[0m\n\u001b[0m\u001b[0;32m     64\u001b[0m     \u001b[0mKmm\u001b[0m \u001b[1;33m=\u001b[0m \u001b[0mkern\u001b[0m\u001b[1;33m.\u001b[0m\u001b[0mK\u001b[0m\u001b[1;33m(\u001b[0m\u001b[0mX\u001b[0m\u001b[1;33m)\u001b[0m \u001b[1;33m+\u001b[0m \u001b[0mtf\u001b[0m\u001b[1;33m.\u001b[0m\u001b[0meye\u001b[0m\u001b[1;33m(\u001b[0m\u001b[0mnum_data\u001b[0m\u001b[1;33m,\u001b[0m \u001b[0mdtype\u001b[0m\u001b[1;33m=\u001b[0m\u001b[0m_settings\u001b[0m\u001b[1;33m.\u001b[0m\u001b[0mtf_float\u001b[0m\u001b[1;33m)\u001b[0m \u001b[1;33m*\u001b[0m \u001b[0m_settings\u001b[0m\u001b[1;33m.\u001b[0m\u001b[0mjitter_level\u001b[0m\u001b[1;33m\u001b[0m\u001b[0m\n\u001b[0;32m     65\u001b[0m     \u001b[0mLm\u001b[0m \u001b[1;33m=\u001b[0m \u001b[0mtf\u001b[0m\u001b[1;33m.\u001b[0m\u001b[0mcholesky\u001b[0m\u001b[1;33m(\u001b[0m\u001b[0mKmm\u001b[0m\u001b[1;33m)\u001b[0m\u001b[1;33m\u001b[0m\u001b[0m\n",
      "\u001b[1;32m<ipython-input-280-0e736e22480d>\u001b[0m in \u001b[0;36mK\u001b[1;34m(self, X, X2)\u001b[0m\n\u001b[0;32m     51\u001b[0m \u001b[1;33m\u001b[0m\u001b[0m\n\u001b[0;32m     52\u001b[0m     \u001b[1;32mdef\u001b[0m \u001b[0mK\u001b[0m\u001b[1;33m(\u001b[0m\u001b[0mself\u001b[0m\u001b[1;33m,\u001b[0m \u001b[0mX\u001b[0m\u001b[1;33m,\u001b[0m \u001b[0mX2\u001b[0m\u001b[1;33m=\u001b[0m\u001b[1;32mNone\u001b[0m\u001b[1;33m)\u001b[0m\u001b[1;33m:\u001b[0m\u001b[1;33m\u001b[0m\u001b[0m\n\u001b[1;32m---> 53\u001b[1;33m         \u001b[0mfX1\u001b[0m \u001b[1;33m=\u001b[0m \u001b[0mself\u001b[0m\u001b[1;33m.\u001b[0m\u001b[0mdeep_kernel\u001b[0m\u001b[1;33m(\u001b[0m\u001b[0mX\u001b[0m\u001b[1;33m)\u001b[0m\u001b[1;33m\u001b[0m\u001b[0m\n\u001b[0m\u001b[0;32m     54\u001b[0m \u001b[1;31m#        fX1 = fX1.astype(tf.float64)\u001b[0m\u001b[1;33m\u001b[0m\u001b[1;33m\u001b[0m\u001b[0m\n\u001b[0;32m     55\u001b[0m         \u001b[1;32mif\u001b[0m \u001b[0mX2\u001b[0m \u001b[1;32mis\u001b[0m \u001b[1;32mNone\u001b[0m\u001b[1;33m:\u001b[0m\u001b[1;33m\u001b[0m\u001b[0m\n",
      "\u001b[1;32m<ipython-input-280-0e736e22480d>\u001b[0m in \u001b[0;36mdeep_kernel\u001b[1;34m(self, x)\u001b[0m\n\u001b[0;32m     48\u001b[0m     \u001b[1;32mdef\u001b[0m \u001b[0mdeep_kernel\u001b[0m\u001b[1;33m(\u001b[0m\u001b[0mself\u001b[0m\u001b[1;33m,\u001b[0m \u001b[0mx\u001b[0m\u001b[1;33m)\u001b[0m\u001b[1;33m:\u001b[0m\u001b[1;33m\u001b[0m\u001b[0m\n\u001b[0;32m     49\u001b[0m         \u001b[1;32mwith\u001b[0m \u001b[0mtf\u001b[0m\u001b[1;33m.\u001b[0m\u001b[0mvariable_scope\u001b[0m\u001b[1;33m(\u001b[0m\u001b[0mself\u001b[0m\u001b[1;33m.\u001b[0m\u001b[0mscope\u001b[0m\u001b[1;33m,\u001b[0m \u001b[0mreuse\u001b[0m \u001b[1;33m=\u001b[0m \u001b[1;32mTrue\u001b[0m\u001b[1;33m)\u001b[0m\u001b[1;33m:\u001b[0m\u001b[1;33m\u001b[0m\u001b[0m\n\u001b[1;32m---> 50\u001b[1;33m             \u001b[1;32mreturn\u001b[0m \u001b[0mself\u001b[0m\u001b[1;33m.\u001b[0m\u001b[0mnn\u001b[0m\u001b[1;33m(\u001b[0m\u001b[0mx\u001b[0m\u001b[1;33m)\u001b[0m\u001b[1;33m\u001b[0m\u001b[0m\n\u001b[0m\u001b[0;32m     51\u001b[0m \u001b[1;33m\u001b[0m\u001b[0m\n\u001b[0;32m     52\u001b[0m     \u001b[1;32mdef\u001b[0m \u001b[0mK\u001b[0m\u001b[1;33m(\u001b[0m\u001b[0mself\u001b[0m\u001b[1;33m,\u001b[0m \u001b[0mX\u001b[0m\u001b[1;33m,\u001b[0m \u001b[0mX2\u001b[0m\u001b[1;33m=\u001b[0m\u001b[1;32mNone\u001b[0m\u001b[1;33m)\u001b[0m\u001b[1;33m:\u001b[0m\u001b[1;33m\u001b[0m\u001b[0m\n",
      "\u001b[1;32m<ipython-input-281-c9383e105663>\u001b[0m in \u001b[0;36mNN\u001b[1;34m(x_ph)\u001b[0m\n\u001b[0;32m     24\u001b[0m     \u001b[0mx_ph\u001b[0m \u001b[1;33m=\u001b[0m \u001b[0mtf\u001b[0m\u001b[1;33m.\u001b[0m\u001b[0mcast\u001b[0m\u001b[1;33m(\u001b[0m\u001b[0mx_ph\u001b[0m\u001b[1;33m,\u001b[0m \u001b[0mtf\u001b[0m\u001b[1;33m.\u001b[0m\u001b[0mfloat32\u001b[0m\u001b[1;33m)\u001b[0m\u001b[1;33m\u001b[0m\u001b[0m\n\u001b[0;32m     25\u001b[0m     \u001b[0mx_ph\u001b[0m \u001b[1;33m=\u001b[0m \u001b[0mtf\u001b[0m\u001b[1;33m.\u001b[0m\u001b[0mreshape\u001b[0m\u001b[1;33m(\u001b[0m\u001b[0mx_ph\u001b[0m\u001b[1;33m,\u001b[0m \u001b[1;33m[\u001b[0m\u001b[1;33m-\u001b[0m\u001b[1;36m1\u001b[0m\u001b[1;33m,\u001b[0m\u001b[1;36m28\u001b[0m\u001b[1;33m,\u001b[0m \u001b[1;36m28\u001b[0m\u001b[1;33m,\u001b[0m \u001b[1;36m1\u001b[0m\u001b[1;33m]\u001b[0m\u001b[1;33m)\u001b[0m\u001b[1;33m\u001b[0m\u001b[0m\n\u001b[1;32m---> 26\u001b[1;33m     \u001b[0mh\u001b[0m \u001b[1;33m=\u001b[0m \u001b[0mtf\u001b[0m\u001b[1;33m.\u001b[0m\u001b[0mlayers\u001b[0m\u001b[1;33m.\u001b[0m\u001b[0mconv2d\u001b[0m\u001b[1;33m(\u001b[0m\u001b[0mx_ph\u001b[0m\u001b[1;33m,\u001b[0m \u001b[1;36m32\u001b[0m\u001b[1;33m,\u001b[0m \u001b[1;36m3\u001b[0m\u001b[1;33m,\u001b[0m \u001b[0mpadding\u001b[0m\u001b[1;33m=\u001b[0m\u001b[1;34m'same'\u001b[0m\u001b[1;33m,\u001b[0m \u001b[0mactivation\u001b[0m\u001b[1;33m=\u001b[0m\u001b[1;32mNone\u001b[0m\u001b[1;33m,\u001b[0m \u001b[0mtrainable\u001b[0m\u001b[1;33m=\u001b[0m\u001b[1;32mTrue\u001b[0m\u001b[1;33m)\u001b[0m\u001b[1;33m\u001b[0m\u001b[0m\n\u001b[0m\u001b[0;32m     27\u001b[0m     \u001b[0mh\u001b[0m \u001b[1;33m=\u001b[0m \u001b[0mtf\u001b[0m\u001b[1;33m.\u001b[0m\u001b[0mnn\u001b[0m\u001b[1;33m.\u001b[0m\u001b[0mrelu\u001b[0m\u001b[1;33m(\u001b[0m\u001b[0mh\u001b[0m\u001b[1;33m)\u001b[0m\u001b[1;33m\u001b[0m\u001b[0m\n\u001b[0;32m     28\u001b[0m     \u001b[0mh\u001b[0m \u001b[1;33m=\u001b[0m \u001b[0mtf\u001b[0m\u001b[1;33m.\u001b[0m\u001b[0mlayers\u001b[0m\u001b[1;33m.\u001b[0m\u001b[0mconv2d\u001b[0m\u001b[1;33m(\u001b[0m\u001b[0mh\u001b[0m\u001b[1;33m,\u001b[0m \u001b[1;36m64\u001b[0m\u001b[1;33m,\u001b[0m \u001b[1;36m3\u001b[0m\u001b[1;33m,\u001b[0m \u001b[0mpadding\u001b[0m\u001b[1;33m=\u001b[0m\u001b[1;34m'same'\u001b[0m\u001b[1;33m,\u001b[0m \u001b[0mactivation\u001b[0m\u001b[1;33m=\u001b[0m\u001b[1;32mNone\u001b[0m\u001b[1;33m,\u001b[0m \u001b[0mtrainable\u001b[0m\u001b[1;33m=\u001b[0m\u001b[1;32mTrue\u001b[0m\u001b[1;33m)\u001b[0m\u001b[1;33m\u001b[0m\u001b[0m\n",
      "\u001b[1;32mC:\\Users\\Lewan\\Anaconda3\\envs\\py35\\lib\\site-packages\\tensorflow\\python\\layers\\convolutional.py\u001b[0m in \u001b[0;36mconv2d\u001b[1;34m(inputs, filters, kernel_size, strides, padding, data_format, dilation_rate, activation, use_bias, kernel_initializer, bias_initializer, kernel_regularizer, bias_regularizer, activity_regularizer, trainable, name, reuse)\u001b[0m\n\u001b[0;32m    549\u001b[0m       \u001b[0m_reuse\u001b[0m\u001b[1;33m=\u001b[0m\u001b[0mreuse\u001b[0m\u001b[1;33m,\u001b[0m\u001b[1;33m\u001b[0m\u001b[0m\n\u001b[0;32m    550\u001b[0m       _scope=name)\n\u001b[1;32m--> 551\u001b[1;33m   \u001b[1;32mreturn\u001b[0m \u001b[0mlayer\u001b[0m\u001b[1;33m.\u001b[0m\u001b[0mapply\u001b[0m\u001b[1;33m(\u001b[0m\u001b[0minputs\u001b[0m\u001b[1;33m)\u001b[0m\u001b[1;33m\u001b[0m\u001b[0m\n\u001b[0m\u001b[0;32m    552\u001b[0m \u001b[1;33m\u001b[0m\u001b[0m\n\u001b[0;32m    553\u001b[0m \u001b[1;33m\u001b[0m\u001b[0m\n",
      "\u001b[1;32mC:\\Users\\Lewan\\Anaconda3\\envs\\py35\\lib\\site-packages\\tensorflow\\python\\layers\\base.py\u001b[0m in \u001b[0;36mapply\u001b[1;34m(self, inputs, *args, **kwargs)\u001b[0m\n\u001b[0;32m    490\u001b[0m       \u001b[0mOutput\u001b[0m \u001b[0mtensor\u001b[0m\u001b[1;33m(\u001b[0m\u001b[0ms\u001b[0m\u001b[1;33m)\u001b[0m\u001b[1;33m.\u001b[0m\u001b[1;33m\u001b[0m\u001b[0m\n\u001b[0;32m    491\u001b[0m     \"\"\"\n\u001b[1;32m--> 492\u001b[1;33m     \u001b[1;32mreturn\u001b[0m \u001b[0mself\u001b[0m\u001b[1;33m.\u001b[0m\u001b[0m__call__\u001b[0m\u001b[1;33m(\u001b[0m\u001b[0minputs\u001b[0m\u001b[1;33m,\u001b[0m \u001b[1;33m*\u001b[0m\u001b[0margs\u001b[0m\u001b[1;33m,\u001b[0m \u001b[1;33m**\u001b[0m\u001b[0mkwargs\u001b[0m\u001b[1;33m)\u001b[0m\u001b[1;33m\u001b[0m\u001b[0m\n\u001b[0m\u001b[0;32m    493\u001b[0m \u001b[1;33m\u001b[0m\u001b[0m\n\u001b[0;32m    494\u001b[0m   \u001b[1;32mdef\u001b[0m \u001b[0m_assert_input_compatibility\u001b[0m\u001b[1;33m(\u001b[0m\u001b[0mself\u001b[0m\u001b[1;33m,\u001b[0m \u001b[0minputs\u001b[0m\u001b[1;33m)\u001b[0m\u001b[1;33m:\u001b[0m\u001b[1;33m\u001b[0m\u001b[0m\n",
      "\u001b[1;32mC:\\Users\\Lewan\\Anaconda3\\envs\\py35\\lib\\site-packages\\tensorflow\\python\\layers\\base.py\u001b[0m in \u001b[0;36m__call__\u001b[1;34m(self, inputs, *args, **kwargs)\u001b[0m\n\u001b[0;32m    419\u001b[0m       \u001b[0mops\u001b[0m\u001b[1;33m.\u001b[0m\u001b[0m_get_graph_from_inputs\u001b[0m\u001b[1;33m(\u001b[0m\u001b[0mnest\u001b[0m\u001b[1;33m.\u001b[0m\u001b[0mflatten\u001b[0m\u001b[1;33m(\u001b[0m\u001b[0minputs\u001b[0m\u001b[1;33m)\u001b[0m\u001b[1;33m,\u001b[0m \u001b[0mgraph\u001b[0m\u001b[1;33m=\u001b[0m\u001b[0mself\u001b[0m\u001b[1;33m.\u001b[0m\u001b[0mgraph\u001b[0m\u001b[1;33m)\u001b[0m  \u001b[1;31m# pylint: disable=protected-access\u001b[0m\u001b[1;33m\u001b[0m\u001b[0m\n\u001b[0;32m    420\u001b[0m     \u001b[1;32mexcept\u001b[0m \u001b[0mValueError\u001b[0m \u001b[1;32mas\u001b[0m \u001b[0me\u001b[0m\u001b[1;33m:\u001b[0m\u001b[1;33m\u001b[0m\u001b[0m\n\u001b[1;32m--> 421\u001b[1;33m       \u001b[1;32mraise\u001b[0m \u001b[0mValueError\u001b[0m\u001b[1;33m(\u001b[0m\u001b[1;34m'Input graph and Layer graph are not the same: %s'\u001b[0m \u001b[1;33m%\u001b[0m \u001b[0me\u001b[0m\u001b[1;33m)\u001b[0m\u001b[1;33m\u001b[0m\u001b[0m\n\u001b[0m\u001b[0;32m    422\u001b[0m \u001b[1;33m\u001b[0m\u001b[0m\n\u001b[0;32m    423\u001b[0m     with vs.variable_scope(self._scope,\n",
      "\u001b[1;31mValueError\u001b[0m: Input graph and Layer graph are not the same: Tensor(\"Reshape_256:0\", shape=(32, 28, 28, 1), dtype=float32) is not from the passed-in graph."
     ]
    }
   ],
   "source": [
    "results = []\n",
    "for i in range(ntest//batch_size):\n",
    "    X_s = X_test[M*i:(i+1)*M]\n",
    "    preds = sess.run(m.predict_y(X), {X: X_s, phase: True})[0]\n",
    "    actuals = Y_test[batch_size*i:(i+1)*batch_size,] % 2\n",
    "    #result = np.mean((preds.T - actuals)**2)\n",
    "    result = np.mean((np.array([preds.T > 0.5]).astype(np.int8) - actuals)**2)\n",
    "    results = results + [result]\n",
    "[np.mean(results)]\n",
    "results = []\n",
    "for i in range(ntest//batch_size):\n",
    "    X_s = X_test[M*i:(i+1)*M]\n",
    "    preds = sess.run(m.predict_y(X), {X: X_s, phase: True})[0]\n",
    "    actuals = Y_test[batch_size*i:(i+1)*batch_size,] % 2\n",
    "    #result = np.mean((preds.T - actuals)**2)\n",
    "    result = np.mean((np.array([preds.T > 0.5]).astype(np.int8) - actuals)**2)\n",
    "    results = results + [result]\n",
    "[np.mean(results)]"
   ]
  },
  {
   "cell_type": "code",
   "execution_count": 518,
   "metadata": {},
   "outputs": [
    {
     "data": {
      "text/plain": [
       "(100,)"
      ]
     },
     "execution_count": 518,
     "metadata": {},
     "output_type": "execute_result"
    }
   ],
   "source": [
    "rng.shape"
   ]
  },
  {
   "cell_type": "code",
   "execution_count": 527,
   "metadata": {
    "scrolled": false
   },
   "outputs": [
    {
     "name": "stdout",
     "output_type": "stream",
     "text": [
      "-99.1659076698\n",
      "-15.3639328987\n",
      "-10.1310123893\n",
      "-7.93719936668\n",
      "-7.49273783464\n",
      "-5.91004720356\n",
      "-5.60398097332\n",
      "-5.18540009079\n",
      "-5.22169251283\n",
      "-4.79998523319\n",
      "-31.7683721202\n",
      "-6.33103558133\n",
      "-7.68641765312\n",
      "-5.22466009825\n",
      "-4.59558938766\n",
      "-4.15712867999\n",
      "-3.98899832063\n",
      "-3.5810555007\n",
      "-3.72895324733\n",
      "-3.28890291995\n",
      "0.185456514359\n",
      "0.0439364425838\n",
      "0.00599342957139\n",
      "0.0107681425288\n",
      "0.00253474246711\n",
      "0.0111637655646\n",
      "0.00476922886446\n",
      "0.00944818742573\n",
      "0.00477329315618\n",
      "0.00206497777253\n"
     ]
    },
    {
     "ename": "NameError",
     "evalue": "name 'a' is not defined",
     "output_type": "error",
     "traceback": [
      "\u001b[1;31m---------------------------------------------------------------------------\u001b[0m",
      "\u001b[1;31mNameError\u001b[0m                                 Traceback (most recent call last)",
      "\u001b[1;32m<ipython-input-527-12e00405125b>\u001b[0m in \u001b[0;36m<module>\u001b[1;34m()\u001b[0m\n\u001b[0;32m    179\u001b[0m \u001b[1;33m\u001b[0m\u001b[0m\n\u001b[0;32m    180\u001b[0m     \u001b[1;32mfor\u001b[0m \u001b[0mi\u001b[0m \u001b[1;32min\u001b[0m \u001b[0mrange\u001b[0m\u001b[1;33m(\u001b[0m\u001b[0mnum_iter\u001b[0m\u001b[1;33m)\u001b[0m\u001b[1;33m:\u001b[0m\u001b[1;33m\u001b[0m\u001b[0m\n\u001b[1;32m--> 181\u001b[1;33m         \u001b[0mrng\u001b[0m \u001b[1;33m=\u001b[0m \u001b[0mnpr\u001b[0m\u001b[1;33m.\u001b[0m\u001b[0mchoice\u001b[0m\u001b[1;33m(\u001b[0m\u001b[0mlen\u001b[0m\u001b[1;33m(\u001b[0m\u001b[0mX_dat\u001b[0m\u001b[1;33m)\u001b[0m\u001b[1;33m,\u001b[0m\u001b[0ma\u001b[0m\u001b[1;33m,\u001b[0m\u001b[0mreplace\u001b[0m\u001b[1;33m=\u001b[0m\u001b[1;32mFalse\u001b[0m\u001b[1;33m)\u001b[0m\u001b[1;33m\u001b[0m\u001b[0m\n\u001b[0m\u001b[0;32m    182\u001b[0m         \u001b[0mdata_batch\u001b[0m \u001b[1;33m=\u001b[0m \u001b[0mX_dat\u001b[0m\u001b[1;33m[\u001b[0m\u001b[0mrng\u001b[0m\u001b[1;33m,\u001b[0m \u001b[1;33m]\u001b[0m\u001b[1;33m.\u001b[0m\u001b[0mastype\u001b[0m\u001b[1;33m(\u001b[0m\u001b[0mnp\u001b[0m\u001b[1;33m.\u001b[0m\u001b[0mfloat32\u001b[0m\u001b[1;33m)\u001b[0m\u001b[1;33m\u001b[0m\u001b[0m\n\u001b[0;32m    183\u001b[0m         \u001b[0mtarget_batch\u001b[0m \u001b[1;33m=\u001b[0m \u001b[0mY_dat2\u001b[0m\u001b[1;33m[\u001b[0m\u001b[0mrng\u001b[0m\u001b[1;33m,\u001b[0m \u001b[1;33m]\u001b[0m\u001b[1;33m.\u001b[0m\u001b[0mastype\u001b[0m\u001b[1;33m(\u001b[0m\u001b[0mnp\u001b[0m\u001b[1;33m.\u001b[0m\u001b[0mfloat32\u001b[0m\u001b[1;33m)\u001b[0m\u001b[1;33m\u001b[0m\u001b[0m\n",
      "\u001b[1;31mNameError\u001b[0m: name 'a' is not defined"
     ]
    }
   ],
   "source": [
    "for j in range(5): \n",
    "    \n",
    "    ntrain = 10**(j+5)\n",
    "    M = batch_size = min(100,ntrain//2)\n",
    "    ntest = 20*M\n",
    "    tf.reset_default_graph()\n",
    "    drop = tf.placeholder(tf.float64)\n",
    "    phase = tf.placeholder(tf.bool)\n",
    "\n",
    "    sess = tf.InteractiveSession()\n",
    "    k = Deep(input_dim=784,nn=NN_BN)\n",
    "    X_dat, Y_dat = mnist.train.next_batch(ntrain)\n",
    "    X_test, Y_test = mnist.train.next_batch(ntest)\n",
    "    Z = X_dat[0:M,]\n",
    "    X = tf.placeholder(_settings.tf_float, [M,784])\n",
    "    Y = tf.placeholder(_settings.tf_float, [M,1])\n",
    "\n",
    "    with tf.variable_scope(\"kern\"):\n",
    "        xm = NN_BN(X)\n",
    "\n",
    "    num_iter = 5000\n",
    "\n",
    "    m = svgp.SVGP(X, Y,kern=k,\n",
    "                       likelihood=likelihoods.Bernoulli(),Z=Z,minibatch_size=M)\n",
    "\n",
    "    _iter = tf.placeholder(tf.int32, shape=None)\n",
    "\n",
    "    decay = tf.maximum(0., 1.-(tf.cast(_iter, tf.float32)/(num_iter)))\n",
    "\n",
    "    opt = tf.train.AdamOptimizer(0.001)\n",
    "    lik = m._build_likelihood()\n",
    "    train = opt.minimize(-lik)\n",
    "\n",
    "    init_op = tf.global_variables_initializer()\n",
    "    sess.run(init_op)\n",
    "    \n",
    "    for i in range(num_iter):\n",
    "        inds = np.random.choice(len(X_dat), M, replace=False)\n",
    "        Xs = X_dat[inds,]\n",
    "        Ys = Y_dat[inds,] % 2\n",
    "        Ys = np.expand_dims(Ys, 1)\n",
    "    #    print(np.min(sess.run(m.q_sqrt)))\n",
    "    #    print(np.min(sess.run(m.Z)))\n",
    "    #    print(np.min(sess.run(fvar, {X: X_dat, drop: 0.5})))\n",
    "        sess.run(train, {Y: Ys, X: Xs, drop: 0.5, phase: True, _iter: i})\n",
    "        if i % (num_iter//10) == 0:\n",
    "            print(sess.run(lik, {Y: Ys, X: Xs, drop: 0.5, phase: True}))\n",
    "        results = []\n",
    "    for i in range(ntest//batch_size):\n",
    "        rng = npr.choice(len(range(ntest)),batch_size,replace=False)\n",
    "        Xs = X_test[rng, ].astype(np.float32)\n",
    "        preds = sess.run(m.predict_y(X), {X: Xs, phase: True})[0]\n",
    "        actuals = Y_test[rng,] % 2\n",
    "        #result = np.mean((preds.T - actuals)**2)\n",
    "        result = np.mean((np.array([preds.T > 0.5]).astype(np.int8) - actuals)**2)\n",
    "        results = results + [result]\n",
    "    \n",
    "    final_results_bn = final_results_bn + [np.mean(results)]\n",
    "    tf.reset_default_graph()\n",
    "    drop = tf.placeholder(tf.float64)\n",
    "    phase = tf.placeholder(tf.bool)\n",
    "\n",
    "    sess = tf.InteractiveSession()\n",
    "    k = Deep(input_dim=784,nn=NN)\n",
    "    M = batch_size = min(32,ntrain//2)\n",
    "    X_dat, Y_dat = mnist.train.next_batch(ntrain)\n",
    "    X_test, Y_test = mnist.train.next_batch(ntest)\n",
    "    Z = X_dat[0:M,]\n",
    "    X = tf.placeholder(_settings.tf_float, [M,784])\n",
    "    Y = tf.placeholder(_settings.tf_float, [M,1])\n",
    "    with tf.variable_scope(\"kern\"):\n",
    "        xm = NN(X)\n",
    "\n",
    "    num_iter = 5000\n",
    "\n",
    "    m = svgp.SVGP(X, Y,kern=k,\n",
    "                       likelihood=likelihoods.Bernoulli(),Z=Z,minibatch_size=M)\n",
    "\n",
    "    _iter = tf.placeholder(tf.int32, shape=None)\n",
    "\n",
    "    decay = tf.maximum(0., 1.-(tf.cast(_iter, tf.float32)/(num_iter)))\n",
    "\n",
    "    opt = tf.train.AdamOptimizer(0.001)\n",
    "    lik = m._build_likelihood()\n",
    "    train = opt.minimize(-lik)\n",
    "\n",
    "    init_op = tf.global_variables_initializer()\n",
    "    sess.run(init_op)\n",
    "    \n",
    "    for i in range(num_iter):\n",
    "        inds = np.random.choice(len(X_dat), M, replace=False)\n",
    "        Xs = X_dat[inds,]\n",
    "        Ys = Y_dat[inds,] % 2\n",
    "        Ys = np.expand_dims(Ys, 1)\n",
    "    #    print(np.min(sess.run(m.q_sqrt)))\n",
    "    #    print(np.min(sess.run(m.Z)))\n",
    "    #    print(np.min(sess.run(fvar, {X: X_dat, drop: 0.5})))\n",
    "        sess.run(train, {Y: Ys, X: Xs, drop: 0.5, phase: True, _iter: i})\n",
    "        if i % (num_iter//10) == 0:\n",
    "            print(sess.run(lik, {Y: Ys, X: Xs, drop: 0.5, phase: True}))\n",
    "        results = []\n",
    "    for i in range(ntest//batch_size):\n",
    "        rng = npr.choice(len(range(ntest)),batch_size,replace=False)\n",
    "        Xs = X_test[rng, ].astype(np.float32)\n",
    "        preds = sess.run(m.predict_y(X), {X: Xs, phase: True})[0]\n",
    "        actuals = Y_test[rng,] % 2\n",
    "        #result = np.mean((preds.T - actuals)**2)\n",
    "        result = np.mean((np.array([preds.T > 0.5]).astype(np.int8) - actuals)**2)\n",
    "        results = results + [result]\n",
    "    final_results_no_bn =  final_results_no_bn + [np.mean(results)]\n",
    "    Y_dat2  =  np.expand_dims(Y_dat%2,1)\n",
    "    b = np.zeros((len(Y_dat), 2))\n",
    "    b[np.arange(len(Y_dat)), Y_dat%2] = 1\n",
    "    Y_dat2 = b\n",
    "    tf.reset_default_graph()\n",
    "\n",
    "    data = tf.placeholder(tf.float32, [batch_size, 784])\n",
    "    target = tf.placeholder(tf.float32, [batch_size, 2])\n",
    "    phase = tf.placeholder(tf.bool)\n",
    "\n",
    "\n",
    "    logit = CNN_BN(data)\n",
    "\n",
    "    prediction = tf.nn.softmax(logit)\n",
    "\n",
    "    loss = tf.losses.softmax_cross_entropy(target, logit)\n",
    "\n",
    "    opt = tf.train.AdamOptimizer()\n",
    "\n",
    "    train = opt.minimize(loss)\n",
    "\n",
    "    sess = tf.Session()\n",
    "\n",
    "    init_op = tf.global_variables_initializer()\n",
    "    sess.run(init_op)\n",
    "\n",
    "    for i in range(num_iter):\n",
    "        rng = npr.choice(len(X_dat),batch_size,replace=False)\n",
    "        data_batch = X_dat[rng, ].astype(np.float32)\n",
    "        target_batch = Y_dat2[rng, ].astype(np.float32) \n",
    "        sess.run(train, {data: data_batch, target: target_batch, phase: True})\n",
    "        if i % (num_iter//10) == 0:\n",
    "            init = lik\n",
    "            lik = sess.run(loss, {data: data_batch, target: target_batch, phase: True})\n",
    "            print(lik)\n",
    "            \n",
    "    results = []\n",
    "    for i in range(ntest//batch_size):\n",
    "        rng = npr.choice(len(range(ntest)),batch_size,replace=False)\n",
    "        Xs = X_test[rng, ].astype(np.float32)\n",
    "        preds = sess.run(1/(1+tf.exp(-logit)),{data: Xs, phase: True})[:,1]\n",
    "        actuals = Y_test[rng,] % 2\n",
    "        #result = np.mean((preds - actuals)**2)\n",
    "        result = np.mean((np.array([preds > 0.5]).astype(np.int8) - actuals)**2)\n",
    "        results = results + [result]\n",
    "    final_results_dnn_bn = final_results_dnn_bn + [np.mean(results)]\n",
    "    \n",
    "    tf.reset_default_graph()\n",
    "\n",
    "    data = tf.placeholder(tf.float32, [batch_size, 784])\n",
    "    target = tf.placeholder(tf.float32, [batch_size, 2])\n",
    "    phase = tf.placeholder(tf.bool)\n",
    "\n",
    "\n",
    "    logit = CNN(data)\n",
    "\n",
    "    prediction = tf.nn.softmax(logit)\n",
    "\n",
    "    loss = tf.losses.softmax_cross_entropy(target, logit)\n",
    "\n",
    "    opt = tf.train.AdamOptimizer()\n",
    "\n",
    "    train = opt.minimize(loss)\n",
    "\n",
    "    sess = tf.Session()\n",
    "\n",
    "    init_op = tf.global_variables_initializer()\n",
    "    sess.run(init_op)\n",
    "\n",
    "    for i in range(num_iter):\n",
    "        rng = npr.choice(len(X_dat),batch_size,replace=False)\n",
    "        data_batch = X_dat[rng, ].astype(np.float32)\n",
    "        target_batch = Y_dat2[rng, ].astype(np.float32) \n",
    "        sess.run(train, {data: data_batch, target: target_batch, phase: True})\n",
    "        if i % (num_iter//10) == 0:\n",
    "            init = lik\n",
    "            lik = sess.run(loss, {data: data_batch, target: target_batch, phase: True})\n",
    "            print(lik)\n",
    "            \n",
    "    results = []\n",
    "    for i in range(ntest//batch_size):\n",
    "        rng = npr.choice(len(range(ntest)),batch_size,replace=False)\n",
    "        Xs = X_test[rng, ].astype(np.float32)\n",
    "        preds = sess.run(1/(1+tf.exp(-logit)),{data: Xs, phase: True})[:,1]\n",
    "        actuals = Y_test[rng,] % 2\n",
    "        #result = np.mean((preds - actuals)**2)\n",
    "        result = np.mean((np.array([preds > 0.5]).astype(np.int8) - actuals)**2)\n",
    "        results = results + [result]\n",
    "    final_results_dnn_no_bn = final_results_dnn_no_bn + [np.mean(results)]"
   ]
  },
  {
   "cell_type": "code",
   "execution_count": 529,
   "metadata": {},
   "outputs": [
    {
     "name": "stdout",
     "output_type": "stream",
     "text": [
      "0.601298332214\n",
      "0.0113156810403\n",
      "0.00233314745128\n",
      "0.00203708256595\n",
      "0.00687841465697\n",
      "0.00284164771438\n",
      "0.00874674227089\n",
      "0.00566299632192\n",
      "0.00416064355522\n",
      "0.00117043312639\n"
     ]
    }
   ],
   "source": [
    "\n",
    "for i in range(num_iter):\n",
    "    rng = npr.choice(len(X_dat),batch_size,replace=False)\n",
    "    data_batch = X_dat[rng, ].astype(np.float32)\n",
    "    target_batch = Y_dat2[rng, ].astype(np.float32) \n",
    "    sess.run(train, {data: data_batch, target: target_batch, phase: True})\n",
    "    if i % (num_iter//10) == 0:\n",
    "        init = lik\n",
    "        lik = sess.run(loss, {data: data_batch, target: target_batch, phase: True})\n",
    "        print(lik)\n",
    "\n",
    "results = []\n",
    "for i in range(ntest//batch_size):\n",
    "    rng = npr.choice(len(range(ntest)),batch_size,replace=False)\n",
    "    Xs = X_test[rng, ].astype(np.float32)\n",
    "    preds = sess.run(1/(1+tf.exp(-logit)),{data: Xs, phase: True})[:,1]\n",
    "    actuals = Y_test[rng,] % 2\n",
    "    #result = np.mean((preds - actuals)**2)\n",
    "    result = np.mean((np.array([preds > 0.5]).astype(np.int8) - actuals)**2)\n",
    "    results = results + [result]\n",
    "final_results_dnn_no_bn = final_results_dnn_no_bn + [np.mean(results)]"
   ]
  },
  {
   "cell_type": "code",
   "execution_count": 524,
   "metadata": {},
   "outputs": [
    {
     "data": {
      "text/plain": [
       "100000"
      ]
     },
     "execution_count": 524,
     "metadata": {},
     "output_type": "execute_result"
    }
   ],
   "source": [
    "ntrain"
   ]
  },
  {
   "cell_type": "code",
   "execution_count": 552,
   "metadata": {
    "scrolled": true
   },
   "outputs": [
    {
     "data": {
      "text/plain": [
       "array([ 0.40512097,  0.18951613,  0.05090726,  0.00327621,  0.00302419])"
      ]
     },
     "execution_count": 552,
     "metadata": {},
     "output_type": "execute_result"
    }
   ],
   "source": [
    "final_results_dnn_bn"
   ]
  },
  {
   "cell_type": "code",
   "execution_count": 547,
   "metadata": {
    "scrolled": true
   },
   "outputs": [
    {
     "data": {
      "text/plain": [
       "array([ 0.39302419,  0.17237903,  0.05342742,  0.01814516,  0.00604839])"
      ]
     },
     "execution_count": 547,
     "metadata": {},
     "output_type": "execute_result"
    }
   ],
   "source": [
    "final_results_dnn_no_bn  "
   ]
  },
  {
   "cell_type": "code",
   "execution_count": 544,
   "metadata": {},
   "outputs": [
    {
     "data": {
      "text/plain": [
       "array([ 0.42050403,  0.15372984,  0.05393145,  0.01310484,  0.00302419])"
      ]
     },
     "execution_count": 544,
     "metadata": {},
     "output_type": "execute_result"
    }
   ],
   "source": [
    "final_results_no_bn"
   ]
  },
  {
   "cell_type": "code",
   "execution_count": 545,
   "metadata": {},
   "outputs": [
    {
     "data": {
      "text/plain": [
       "array([ 0.3515,  0.2145,  0.0545,  0.0115,  0.0015])"
      ]
     },
     "execution_count": 545,
     "metadata": {},
     "output_type": "execute_result"
    }
   ],
   "source": [
    "final_results_bn "
   ]
  },
  {
   "cell_type": "code",
   "execution_count": 564,
   "metadata": {},
   "outputs": [
    {
     "data": {
      "text/plain": [
       "array([ 0.6485,  0.7855,  0.9455,  0.9885,  0.9985])"
      ]
     },
     "execution_count": 564,
     "metadata": {},
     "output_type": "execute_result"
    }
   ],
   "source": [
    "1-final_results_bn"
   ]
  },
  {
   "cell_type": "code",
   "execution_count": 638,
   "metadata": {
    "scrolled": false
   },
   "outputs": [
    {
     "data": {
      "image/png": "[encoded data removed]",
      "text/plain": [
       "<matplotlib.figure.Figure at 0x285bef1dc50>"
      ]
     },
     "metadata": {},
     "output_type": "display_data"
    }
   ],
   "source": [
    "import matplotlib\n",
    "matplotlib.rcParams.update({'font.size': 22})\n",
    "\n",
    "fig1, ax1 = plt.subplots()\n",
    "ax1.plot(np.array([1, 2, 3, 4, 5], np.uint8), 1-final_results_dnn_no_bn, linewidth=5)\n",
    "ax1.plot(np.array([1, 2, 3, 4, 5], np.uint8), 1-final_results_no_bn, linewidth=5)\n",
    "ax1.plot(np.array([1, 2, 3, 4, 5], np.uint8), 1-final_results_dnn_bn, linewidth=5)\n",
    "ax1.plot(np.array([1, 2, 3, 4, 5], np.uint8), 1-final_results_bn, linewidth=5)\n",
    "ax1.legend([\"DNN\", \"DKL\", \"DNN-BN\",\"DKL-BN\"])\n",
    "ax1.set_xticks([1,2,3,4,5])\n",
    "ax1.set_xticklabels([\"10\", \"100\", \"1000\", \"10000\", \"50000\"])\n",
    "fig1.set_figheight(10)\n",
    "fig1.set_figwidth(20)\n",
    "\n",
    "plt.title(\"Accuracy on binary MNIST classificaiton per order of magnitude\")\n",
    "plt.xlabel(\"Sample size\")\n",
    "plt.ylabel(\"Accuracy\")\n",
    "plt.show()"
   ]
  },
  {
   "cell_type": "code",
   "execution_count": 17,
   "metadata": {
    "scrolled": true
   },
   "outputs": [
    {
     "name": "stdout",
     "output_type": "stream",
     "text": [
      "[0.36000000000000004]\n",
      "[0.5]\n"
     ]
    }
   ],
   "source": [
    "print(final_results_bn)\n",
    "print(final_results_no_bn)"
   ]
  },
  {
   "cell_type": "code",
   "execution_count": null,
   "metadata": {
    "collapsed": true,
    "scrolled": false
   },
   "outputs": [],
   "source": [
    "results = []\n",
    "for i in range(ntest//batch_size):\n",
    "    X_s = X_test[M*i:(i+1)*M]\n",
    "    preds = sess.run(m.predict_y(X), {X: X_s, phase: True})[0]\n",
    "    actuals = Y_test[batch_size*i:(i+1)*batch_size,] % 2\n",
    "    result = np.mean((preds.T - actuals)**2)\n",
    "    results = results + [result]\n",
    "np.mean(results)"
   ]
  },
  {
   "cell_type": "code",
   "execution_count": null,
   "metadata": {
    "collapsed": true
   },
   "outputs": [],
   "source": [
    "results = []\n",
    "for i in range(ntest//batch_size):\n",
    "    X_s = X_test[M*i:(i+1)*M]\n",
    "    preds = sess.run(m.predict_y(X), {X: X_s, phase: True})[0]\n",
    "    actuals = Y_test[batch_size*i:(i+1)*batch_size,] % 2\n",
    "    result = np.mean((np.array([preds.T > 0.5]).astype(np.int8) - actuals)**2)\n",
    "    results = results + [result]\n",
    "np.mean(results)"
   ]
  },
  {
   "cell_type": "code",
   "execution_count": null,
   "metadata": {
    "collapsed": true
   },
   "outputs": [],
   "source": [
    "Y_dat2  =  np.expand_dims(Y_dat%2,1)\n",
    "b = np.zeros((len(Y_dat), 2))\n",
    "b[np.arange(len(Y_dat)), Y_dat%2] = 1\n",
    "Y_dat2 = b"
   ]
  },
  {
   "cell_type": "code",
   "execution_count": null,
   "metadata": {
    "collapsed": true,
    "scrolled": true
   },
   "outputs": [],
   "source": [
    "tf.reset_default_graph()\n",
    "\n",
    "\n",
    "# Batch size x time steps x features.\n",
    "\n",
    "data = tf.placeholder(tf.float32, [batch_size, 784])\n",
    "target = tf.placeholder(tf.float32, [batch_size, 2])\n",
    "phase = tf.placeholder(tf.bool)\n",
    "\n",
    "\n",
    "dropout = tf.placeholder(tf.float32)\n",
    "\n",
    "def CNN(x_ph):\n",
    "    x_ph = tf.reshape(x_ph, [-1,28, 28, 1])\n",
    "    h = tf.layers.conv2d(x_ph, 32, 3, padding='same', activation=None, trainable=True)\n",
    "    h = slim.batch_norm(h, center=True, scale=True, is_training=phase)\n",
    "    h = tf.nn.relu(h)\n",
    "#    h = tf.layers.dropout(h, drop, training=True)\n",
    "    h = tf.layers.conv2d(h, 64, 3, padding='same', activation=None, trainable=True)\n",
    "    h = slim.batch_norm(h, center=True, scale=True, is_training=phase)\n",
    "    h = tf.nn.relu(h)\n",
    "    h = tf.reshape(h, [M,-1])\n",
    "    h = tf.layers.dense(h, 1024, activation=None, trainable=True)\n",
    "    h = slim.batch_norm(h, center=True, scale=True, is_training=phase)\n",
    "    h = tf.nn.relu(h)\n",
    "    h = tf.layers.dense(h, 100, activation=None, trainable=True)\n",
    "    h = slim.batch_norm(h, center=True, scale=True, is_training=phase)\n",
    "    h = tf.nn.relu(h)\n",
    "    h = tf.layers.dense(h, 2, activation=None, trainable=True)\n",
    "    return h\n",
    "\n",
    "logit = CNN(data)\n",
    "\n",
    "prediction = tf.nn.softmax(logit)\n",
    "\n",
    "loss = tf.losses.softmax_cross_entropy(target, logit)\n",
    "\n",
    "opt = tf.train.AdamOptimizer()\n",
    "\n",
    "train = opt.minimize(loss)\n",
    "\n",
    "sess = tf.Session()\n",
    "\n",
    "rng = npr.choice(ntrain,batch_size,replace=False)\n",
    "data_batch = X_dat[rng, ].astype(np.float32)\n",
    "target_batch = Y_dat2[rng, ].astype(np.float32) \n",
    "\n",
    "init_op = tf.global_variables_initializer()\n",
    "sess.run(init_op)\n",
    "\n",
    "init = sess.run(loss, {data: data_batch, target: target_batch, phase: True})\n",
    "sess.run(train, {data: data_batch, target: target_batch, phase: True})\n",
    "lik = sess.run(loss, {data: data_batch, target: target_batch, phase: True})\n",
    "\n",
    "for i in range(num_iter):\n",
    "    rng = npr.choice(ntrain,batch_size,replace=False)\n",
    "    data_batch = X_dat[rng, ].astype(np.float32)\n",
    "    target_batch = Y_dat2[rng, ].astype(np.float32) \n",
    "    sess.run(train, {data: data_batch, target: target_batch, phase: True})\n",
    "    if i % (num_iter//10) == 0:\n",
    "        init = lik\n",
    "        lik = sess.run(loss, {data: data_batch, target: target_batch, phase: True})\n",
    "        print(lik)"
   ]
  },
  {
   "cell_type": "code",
   "execution_count": null,
   "metadata": {
    "collapsed": true
   },
   "outputs": [],
   "source": [
    "ntest = 100\n",
    "X_test, Y_test = mnist.train.next_batch(ntest)\n"
   ]
  },
  {
   "cell_type": "code",
   "execution_count": null,
   "metadata": {
    "collapsed": true
   },
   "outputs": [],
   "source": [
    "results = []\n",
    "for i in range(ntest//batch_size):\n",
    "    Xs = X_test[M*i:(i+1)*M]\n",
    "    preds = sess.run(1/(1+tf.exp(-logit)),{data: Xs, phase: True})[:,1]\n",
    "    actuals = Y_test[batch_size*i:(i+1)*batch_size,] % 2\n",
    "    result = np.mean((preds - actuals)**2)\n",
    "    results = results + [result]\n",
    "np.mean(results)"
   ]
  },
  {
   "cell_type": "code",
   "execution_count": null,
   "metadata": {
    "collapsed": true
   },
   "outputs": [],
   "source": [
    "results = []\n",
    "for i in range(ntest//batch_size):\n",
    "    Xs = X_test[M*i:(i+1)*M]\n",
    "    preds = sess.run(1/(1+tf.exp(-logit)),{data: Xs, phase: True})[:,1]\n",
    "    actuals = Y_test[batch_size*i:(i+1)*batch_size,] % 2\n",
    "    result = np.mean((np.array([preds > 0.5]).astype(np.int8) - actuals)**2)\n",
    "    results = results + [result]\n",
    "np.mean(results)"
   ]
  },
  {
   "cell_type": "code",
   "execution_count": 568,
   "metadata": {
    "scrolled": true
   },
   "outputs": [
    {
     "name": "stdout",
     "output_type": "stream",
     "text": [
      "-7.93755818231\n",
      "-4.87852171967\n",
      "-4.13163704013\n",
      "-3.4290373323\n",
      "-4.18412287917\n",
      "-3.49129386426\n",
      "-3.08384262561\n",
      "-3.73458738144\n",
      "-3.24416809957\n",
      "-2.89484232902\n",
      "-15.8640021855\n",
      "-7.16416509491\n",
      "-6.62293479232\n",
      "-4.39627050397\n",
      "-4.39122866476\n",
      "-3.86658874535\n",
      "-3.4482856742\n",
      "-4.6355993526\n",
      "-3.31788072844\n",
      "-3.20184377663\n",
      "-31.7326741663\n",
      "-8.84844102444\n",
      "-5.61958353575\n",
      "-6.05237594274\n",
      "-4.86578045939\n",
      "-4.19734081194\n",
      "-6.02369853802\n",
      "-5.55674813464\n",
      "-4.02035547539\n",
      "-4.34926156069\n",
      "-63.4556061818\n",
      "-8.32274656468\n",
      "-7.97202612599\n",
      "-8.32998865707\n",
      "-6.5082130976\n",
      "-6.84291502582\n",
      "-5.4857048875\n",
      "-4.77106683781\n",
      "-4.65121776504\n",
      "-4.43966115643\n",
      "-126.95053608\n",
      "-16.4511780064\n",
      "-9.8453103148\n",
      "-8.39080085102\n",
      "-7.23775265699\n",
      "-7.28137815123\n",
      "-5.79764380541\n",
      "-5.60666593617\n",
      "-5.24806837269\n",
      "-5.39865735215\n",
      "-253.773376681\n",
      "-24.550227632\n",
      "-15.7363387165\n",
      "-9.53600911335\n",
      "-8.31951629447\n",
      "-7.48175334968\n",
      "-6.54272063354\n",
      "-6.12344172981\n",
      "-5.71609292816\n",
      "-7.16715995694\n",
      "-507.78021681\n",
      "-45.932414536\n",
      "-16.2615314776\n",
      "-12.2914260051\n",
      "-10.74215227\n",
      "-9.34175310169\n",
      "-8.34431841364\n",
      "-7.76035533226\n",
      "-7.25603774752\n",
      "-6.59716060502\n"
     ]
    }
   ],
   "source": [
    "final_results_bn_batch_size_all_data = []\n",
    "\n",
    "for j in range(7): \n",
    "    \n",
    "    ntrain = 50000\n",
    "    M = batch_size = 8*2**j\n",
    "    ntest = 20*M\n",
    "    tf.reset_default_graph()\n",
    "    drop = tf.placeholder(tf.float64)\n",
    "    phase = tf.placeholder(tf.bool)\n",
    "\n",
    "    sess = tf.InteractiveSession()\n",
    "    k = Deep(input_dim=784,nn=NN_BN)\n",
    "    X_dat, Y_dat = mnist.train.next_batch(ntrain)\n",
    "    X_test, Y_test = mnist.train.next_batch(ntest)\n",
    "    Z = X_dat[0:M,]\n",
    "    X = tf.placeholder(_settings.tf_float, [M,784])\n",
    "    Y = tf.placeholder(_settings.tf_float, [M,1])\n",
    "\n",
    "    with tf.variable_scope(\"kern\"):\n",
    "        xm = NN_BN(X)\n",
    "\n",
    "    num_iter = 5000\n",
    "\n",
    "    m = svgp.SVGP(X, Y,kern=k,\n",
    "                       likelihood=likelihoods.Bernoulli(),Z=Z,minibatch_size=M)\n",
    "\n",
    "    _iter = tf.placeholder(tf.int32, shape=None)\n",
    "\n",
    "    decay = tf.maximum(0., 1.-(tf.cast(_iter, tf.float32)/(num_iter)))\n",
    "\n",
    "    opt = tf.train.AdamOptimizer(0.001)\n",
    "    lik = m._build_likelihood()\n",
    "    train = opt.minimize(-lik)\n",
    "\n",
    "    init_op = tf.global_variables_initializer()\n",
    "    sess.run(init_op)\n",
    "    \n",
    "    for i in range(num_iter):\n",
    "        inds = np.random.choice(len(X_dat), M, replace=False)\n",
    "        Xs = X_dat[inds,]\n",
    "        Ys = Y_dat[inds,] % 2\n",
    "        Ys = np.expand_dims(Ys, 1)\n",
    "    #    print(np.min(sess.run(m.q_sqrt)))\n",
    "    #    print(np.min(sess.run(m.Z)))\n",
    "    #    print(np.min(sess.run(fvar, {X: X_dat, drop: 0.5})))\n",
    "        sess.run(train, {Y: Ys, X: Xs, drop: 0.5, phase: True, _iter: i})\n",
    "        if i % (num_iter//10) == 0:\n",
    "            print(sess.run(lik, {Y: Ys, X: Xs, drop: 0.5, phase: True}))\n",
    "        results = []\n",
    "    for i in range(ntest//batch_size):\n",
    "        rng = npr.choice(len(range(ntest)),batch_size,replace=False)\n",
    "        Xs = X_test[rng, ].astype(np.float32)\n",
    "        preds = sess.run(m.predict_y(X), {X: Xs, phase: True})[0]\n",
    "        actuals = Y_test[rng,] % 2\n",
    "        #result = np.mean((preds.T - actuals)**2)\n",
    "        result = np.mean((np.array([preds.T > 0.5]).astype(np.int8) - actuals)**2)\n",
    "        results = results + [result]\n",
    "    \n",
    "    final_results_bn_batch_size_all_data = final_results_bn_batch_size_all_data + [np.mean(results)]"
   ]
  },
  {
   "cell_type": "code",
   "execution_count": null,
   "metadata": {},
   "outputs": [
    {
     "name": "stdout",
     "output_type": "stream",
     "text": [
      "-7.93553488141\n",
      "-4.87384252064\n",
      "-5.45596982267\n",
      "-6.28493469436\n",
      "-3.01946043263\n",
      "-4.0926292098\n",
      "-3.27465546893\n",
      "-2.84564465755\n",
      "-3.68052504648\n",
      "-3.39087345205\n",
      "-15.8682024191\n",
      "-6.56906687758\n",
      "-6.28651445318\n",
      "-4.12695758382\n",
      "-5.51258055993\n",
      "-5.01252595674\n",
      "-3.6462186437\n",
      "-3.3081252079\n",
      "-3.46141844691\n",
      "-3.32352062259\n",
      "-31.7329312595\n",
      "-8.010666717\n",
      "-5.90490627424\n",
      "-5.59159638378\n",
      "-5.09466510573\n",
      "-4.31878277896\n",
      "-4.66653160051\n",
      "-4.01099905859\n",
      "-5.07109688727\n",
      "-3.7973529008\n",
      "-63.463772577\n",
      "-10.0274205591\n",
      "-8.44065656102\n",
      "-8.64145705767\n",
      "-5.57506115562\n",
      "-7.42471634319\n",
      "-4.73652314903\n",
      "-4.50147031395\n",
      "-4.54833924762\n",
      "-4.14506024017\n",
      "-126.899469018\n",
      "-11.5287772217\n",
      "-7.2433187531\n",
      "-6.41036706457\n",
      "-5.96354329141\n",
      "-5.52307756003\n",
      "-5.35025000821\n",
      "-4.79241461672\n",
      "-5.57210071589\n",
      "-4.35052766168\n",
      "-253.85462474\n",
      "-28.1440625781\n",
      "-10.5731909804\n",
      "-7.77851506073\n",
      "-7.84928874626\n",
      "-6.55722847221\n",
      "-7.00324636386\n",
      "-6.6772981395\n",
      "-5.47481873318\n",
      "-61.2427703067\n",
      "-507.838715603\n",
      "-34.0393441869\n",
      "-20.8244157446\n",
      "-18.6003916328\n",
      "-16.0819972985\n",
      "-15.4733617092\n",
      "-15.1660807299\n",
      "-14.0979472289\n"
     ]
    }
   ],
   "source": [
    "final_results_bn_batch_size_low_data = []\n",
    "\n",
    "for j in range(7): \n",
    "    \n",
    "    ntrain = 1000\n",
    "    M = batch_size = 8*2**j\n",
    "    ntest = 20*M\n",
    "    tf.reset_default_graph()\n",
    "    drop = tf.placeholder(tf.float64)\n",
    "    phase = tf.placeholder(tf.bool)\n",
    "\n",
    "    sess = tf.InteractiveSession()\n",
    "    k = Deep(input_dim=784,nn=NN_BN)\n",
    "    X_dat, Y_dat = mnist.train.next_batch(ntrain)\n",
    "    X_test, Y_test = mnist.train.next_batch(ntest)\n",
    "    Z = X_dat[0:M,]\n",
    "    X = tf.placeholder(_settings.tf_float, [M,784])\n",
    "    Y = tf.placeholder(_settings.tf_float, [M,1])\n",
    "\n",
    "    with tf.variable_scope(\"kern\"):\n",
    "        xm = NN_BN(X)\n",
    "\n",
    "    num_iter = 5000\n",
    "\n",
    "    m = svgp.SVGP(X, Y,kern=k,\n",
    "                       likelihood=likelihoods.Bernoulli(),Z=Z,minibatch_size=M)\n",
    "\n",
    "    _iter = tf.placeholder(tf.int32, shape=None)\n",
    "\n",
    "    decay = tf.maximum(0., 1.-(tf.cast(_iter, tf.float32)/(num_iter)))\n",
    "\n",
    "    opt = tf.train.AdamOptimizer(0.001)\n",
    "    lik = m._build_likelihood()\n",
    "    train = opt.minimize(-lik)\n",
    "\n",
    "    init_op = tf.global_variables_initializer()\n",
    "    sess.run(init_op)\n",
    "    \n",
    "    for i in range(num_iter):\n",
    "        inds = np.random.choice(len(X_dat), M, replace=False)\n",
    "        Xs = X_dat[inds,]\n",
    "        Ys = Y_dat[inds,] % 2\n",
    "        Ys = np.expand_dims(Ys, 1)\n",
    "    #    print(np.min(sess.run(m.q_sqrt)))\n",
    "    #    print(np.min(sess.run(m.Z)))\n",
    "    #    print(np.min(sess.run(fvar, {X: X_dat, drop: 0.5})))\n",
    "        sess.run(train, {Y: Ys, X: Xs, drop: 0.5, phase: True, _iter: i})\n",
    "        if i % (num_iter//10) == 0:\n",
    "            print(sess.run(lik, {Y: Ys, X: Xs, drop: 0.5, phase: True}))\n",
    "        results = []\n",
    "    for i in range(ntest//batch_size):\n",
    "        rng = npr.choice(len(range(ntest)),batch_size,replace=False)\n",
    "        Xs = X_test[rng, ].astype(np.float32)\n",
    "        preds = sess.run(m.predict_y(X), {X: Xs, phase: True})[0]\n",
    "        actuals = Y_test[rng,] % 2\n",
    "        #result = np.mean((preds.T - actuals)**2)\n",
    "        result = np.mean((np.array([preds.T > 0.5]).astype(np.int8) - actuals)**2)\n",
    "        results = results + [result]\n",
    "    \n",
    "    final_results_bn_batch_size_low_data = final_results_bn_batch_size_low_data + [np.mean(results)]"
   ]
  },
  {
   "cell_type": "code",
   "execution_count": 645,
   "metadata": {},
   "outputs": [
    {
     "data": {
      "text/plain": [
       "[0.018749999999999999,\n",
       " 0.0093749999999999997,\n",
       " 0.0031250000000000002,\n",
       " 0.0046874999999999998,\n",
       " 0.039843749999999997,\n",
       " 0.047070312500000003,\n",
       " 0.060742187500000003]"
      ]
     },
     "execution_count": 645,
     "metadata": {},
     "output_type": "execute_result"
    }
   ],
   "source": [
    "final_results_bn_batch_size_low_data"
   ]
  },
  {
   "cell_type": "code",
   "execution_count": 648,
   "metadata": {},
   "outputs": [
    {
     "data": {
      "text/plain": [
       "[0.025000000000000001,\n",
       " 0.015625,\n",
       " 0.012500000000000001,\n",
       " 0.0023437499999999999,\n",
       " 0.0,\n",
       " 0.0,\n",
       " 0.0]"
      ]
     },
     "execution_count": 648,
     "metadata": {},
     "output_type": "execute_result"
    }
   ],
   "source": [
    "final_results_bn_batch_size"
   ]
  },
  {
   "cell_type": "code",
   "execution_count": 649,
   "metadata": {},
   "outputs": [
    {
     "data": {
      "image/png": "[encoded data removed]",
      "text/plain": [
       "<matplotlib.figure.Figure at 0x285bc356be0>"
      ]
     },
     "metadata": {},
     "output_type": "display_data"
    }
   ],
   "source": [
    "import matplotlib\n",
    "matplotlib.rcParams.update({'font.size': 22})\n",
    "\n",
    "fig1, ax1 = plt.subplots()\n",
    "ax1.plot(np.array([1, 2, 3, 4, 5,6,7], np.uint8), 1-np.array(final_results_bn_batch_size), linewidth=5)\n",
    "ax1.plot(np.array([1, 2, 3, 4, 5,6,7], np.uint8), 1-np.array(final_results_bn_batch_size_low_data), linewidth=5)\n",
    "ax1.legend([\"N=50000\", \"N=1000\"])\n",
    "ax1.set_xticks([1,2,3,4,5,6,7])\n",
    "ax1.set_xticklabels([\"8\", \"16\", \"32\", \"68\", \"128\",\"256\",\"512\"])\n",
    "fig1.set_figheight(10)\n",
    "fig1.set_figwidth(20)\n",
    "\n",
    "plt.title(\"Accuracy on binary MNIST classificaiton per order of magnitude\")\n",
    "plt.xlabel(\"Minibatch Size\")\n",
    "plt.ylabel(\"Accuracy\")\n",
    "plt.show()"
   ]
  },
  {
   "cell_type": "code",
   "execution_count": 643,
   "metadata": {},
   "outputs": [
    {
     "ename": "NameError",
     "evalue": "name 'final_results_bn_batch_size_all_data' is not defined",
     "output_type": "error",
     "traceback": [
      "\u001b[1;31m---------------------------------------------------------------------------\u001b[0m",
      "\u001b[1;31mNameError\u001b[0m                                 Traceback (most recent call last)",
      "\u001b[1;32m<ipython-input-643-4a74a0463183>\u001b[0m in \u001b[0;36m<module>\u001b[1;34m()\u001b[0m\n\u001b[0;32m      4\u001b[0m \u001b[0mfig1\u001b[0m\u001b[1;33m,\u001b[0m \u001b[0max1\u001b[0m \u001b[1;33m=\u001b[0m \u001b[0mplt\u001b[0m\u001b[1;33m.\u001b[0m\u001b[0msubplots\u001b[0m\u001b[1;33m(\u001b[0m\u001b[1;33m)\u001b[0m\u001b[1;33m\u001b[0m\u001b[0m\n\u001b[0;32m      5\u001b[0m \u001b[1;33m\u001b[0m\u001b[0m\n\u001b[1;32m----> 6\u001b[1;33m \u001b[0max1\u001b[0m\u001b[1;33m.\u001b[0m\u001b[0mplot\u001b[0m\u001b[1;33m(\u001b[0m\u001b[0mnp\u001b[0m\u001b[1;33m.\u001b[0m\u001b[0marray\u001b[0m\u001b[1;33m(\u001b[0m\u001b[1;33m[\u001b[0m\u001b[1;36m1\u001b[0m\u001b[1;33m,\u001b[0m \u001b[1;36m2\u001b[0m\u001b[1;33m,\u001b[0m \u001b[1;36m3\u001b[0m\u001b[1;33m,\u001b[0m \u001b[1;36m4\u001b[0m\u001b[1;33m,\u001b[0m \u001b[1;36m5\u001b[0m\u001b[1;33m,\u001b[0m\u001b[1;36m6\u001b[0m\u001b[1;33m,\u001b[0m\u001b[1;36m7\u001b[0m\u001b[1;33m]\u001b[0m\u001b[1;33m,\u001b[0m \u001b[0mnp\u001b[0m\u001b[1;33m.\u001b[0m\u001b[0muint8\u001b[0m\u001b[1;33m)\u001b[0m\u001b[1;33m,\u001b[0m \u001b[1;36m1\u001b[0m\u001b[1;33m-\u001b[0m\u001b[0mnp\u001b[0m\u001b[1;33m.\u001b[0m\u001b[0marray\u001b[0m\u001b[1;33m(\u001b[0m\u001b[0mfinal_results_bn_batch_size_all_data\u001b[0m\u001b[1;33m)\u001b[0m\u001b[1;33m,\u001b[0m \u001b[0mlinewidth\u001b[0m\u001b[1;33m=\u001b[0m\u001b[1;36m5\u001b[0m\u001b[1;33m)\u001b[0m\u001b[1;33m\u001b[0m\u001b[0m\n\u001b[0m\u001b[0;32m      7\u001b[0m \u001b[0max1\u001b[0m\u001b[1;33m.\u001b[0m\u001b[0mplot\u001b[0m\u001b[1;33m(\u001b[0m\u001b[0mnp\u001b[0m\u001b[1;33m.\u001b[0m\u001b[0marray\u001b[0m\u001b[1;33m(\u001b[0m\u001b[1;33m[\u001b[0m\u001b[1;36m1\u001b[0m\u001b[1;33m,\u001b[0m \u001b[1;36m2\u001b[0m\u001b[1;33m,\u001b[0m \u001b[1;36m3\u001b[0m\u001b[1;33m,\u001b[0m \u001b[1;36m4\u001b[0m\u001b[1;33m,\u001b[0m \u001b[1;36m5\u001b[0m\u001b[1;33m,\u001b[0m\u001b[1;36m6\u001b[0m\u001b[1;33m,\u001b[0m\u001b[1;36m7\u001b[0m\u001b[1;33m]\u001b[0m\u001b[1;33m,\u001b[0m \u001b[0mnp\u001b[0m\u001b[1;33m.\u001b[0m\u001b[0muint8\u001b[0m\u001b[1;33m)\u001b[0m\u001b[1;33m,\u001b[0m \u001b[1;36m1\u001b[0m\u001b[1;33m-\u001b[0m\u001b[0mnp\u001b[0m\u001b[1;33m.\u001b[0m\u001b[0marray\u001b[0m\u001b[1;33m(\u001b[0m\u001b[0mfinal_results_bn_batch_size_low_data\u001b[0m\u001b[1;33m)\u001b[0m\u001b[1;33m,\u001b[0m \u001b[0mlinewidth\u001b[0m\u001b[1;33m=\u001b[0m\u001b[1;36m5\u001b[0m\u001b[1;33m)\u001b[0m\u001b[1;33m\u001b[0m\u001b[0m\n\u001b[0;32m      8\u001b[0m \u001b[0max1\u001b[0m\u001b[1;33m.\u001b[0m\u001b[0mlegend\u001b[0m\u001b[1;33m(\u001b[0m\u001b[1;33m[\u001b[0m\u001b[1;34m\"N=50000\"\u001b[0m\u001b[1;33m,\u001b[0m \u001b[1;34m\"N=1000\"\u001b[0m\u001b[1;33m]\u001b[0m\u001b[1;33m)\u001b[0m\u001b[1;33m\u001b[0m\u001b[0m\n",
      "\u001b[1;31mNameError\u001b[0m: name 'final_results_bn_batch_size_all_data' is not defined"
     ]
    }
   ],
   "source": [
    "import matplotlib\n",
    "matplotlib.rcParams.update({'font.size': 22})\n",
    "\n",
    "fig1, ax1 = plt.subplots()\n",
    "\n",
    "ax1.plot(np.array([1, 2, 3, 4, 5,6,7], np.uint8), 1-np.array(final_results_bn_batch_size_all_data), linewidth=5)\n",
    "ax1.plot(np.array([1, 2, 3, 4, 5,6,7], np.uint8), 1-np.array(final_results_bn_batch_size_no_data), linewidth=5)\n",
    "ax1.legend([\"N=50000\", \"N=1000\"])\n",
    "ax1.set_xticks([1,2,3,4,5,6,7])\n",
    "ax1.set_xticklabels([\"8\", \"16\", \"32\", \"68\", \"128\",\"256\",\"512\"])\n",
    "fig1.set_figheight(10)\n",
    "fig1.set_figwidth(20)\n",
    "\n",
    "plt.title(\"Accuracy on binary MNIST classificaiton per order of magnitude\")\n",
    "plt.xlabel(\"Minibatch Size\")\n",
    "plt.ylabel(\"Accuracy\")\n",
    "plt.show()"
   ]
  }
 ],
 "metadata": {
  "anaconda-cloud": {},
  "kernelspec": {
   "display_name": "Python 3",
   "language": "python",
   "name": "python3"
  },
  "language_info": {
   "codemirror_mode": {
    "name": "ipython",
    "version": 3
   },
   "file_extension": ".py",
   "mimetype": "text/x-python",
   "name": "python",
   "nbconvert_exporter": "python",
   "pygments_lexer": "ipython3",
   "version": "3.5.3"
  }
 },
 "nbformat": 4,
 "nbformat_minor": 2
}
